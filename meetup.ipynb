{
 "cells": [
  {
   "cell_type": "markdown",
   "metadata": {},
   "source": [
    "# Meetup Project\n",
    "\n",
    "\n",
    "What is in a Meetup API request?\n",
    "\n",
    "1. https://api.meetup.com: The API host.\n",
    "2. /find/groups: The method\n",
    "3. zip=11211&radius=1&category=25: The args. Here is where you may add the API key.\n",
    "    From what I can tell, the only args you can give are zip, radius, and category. So maybe you need to go through the zips \n",
    "4. &order=members:  How to order the results.\n",
    "\n",
    "\n",
    "-  Private groups I cannot see the members who go, only the number. We will need to see how many groups are public.\n"
   ]
  },
  {
   "cell_type": "markdown",
   "metadata": {},
   "source": [
    "# Imports / Pymongo Setup"
   ]
  },
  {
   "cell_type": "code",
   "execution_count": 56,
   "metadata": {},
   "outputs": [],
   "source": [
    "from pymongo import MongoClient\n",
    "import requests\n",
    "import json\n",
    "key = open('api.txt', 'r').read()\n",
    "\n",
    "client = MongoClient('localhost', 27017)\n",
    "db = client.meet_up\n",
    "collection = db.groups"
   ]
  },
  {
   "cell_type": "markdown",
   "metadata": {},
   "source": [
    "## Get number of groups in each category globally"
   ]
  },
  {
   "cell_type": "code",
   "execution_count": 2,
   "metadata": {},
   "outputs": [],
   "source": [
    "# This creates a list of dictionaries, with name, sort_name, id, and shortname. \n",
    "dict_categories = json.loads(requests.get('https://api.meetup.com/2/categories?key={}'.format(key)).text)['results']\n",
    "\n",
    "#make list of ids \n",
    "ids = [item['id'] for item in dict_categories]\n",
    "ids.sort()"
   ]
  },
  {
   "cell_type": "code",
   "execution_count": 3,
   "metadata": {},
   "outputs": [],
   "source": [
    "def get_count_of_category(number):\n",
    "    req_count = requests.get('https://api.meetup.com/find/groups?key={}&radius=global&category={}'.format(key, number))\\\n",
    "                        .headers['X-Total-Count']\n",
    "    cat_name = next(item['name'] for item in dict_categories if item[\"id\"] == number)\n",
    "    return [number, int(req_count), cat_name]\n",
    "    \n",
    "groups_per_category = [get_count_of_category(category) for category in ids]"
   ]
  },
  {
   "cell_type": "code",
   "execution_count": 9,
   "metadata": {
    "scrolled": true
   },
   "outputs": [
    {
     "data": {
      "text/plain": [
       "344808"
      ]
     },
     "execution_count": 9,
     "metadata": {},
     "output_type": "execute_result"
    }
   ],
   "source": [
    "sum([val[1] for val in groups_per_category])"
   ]
  },
  {
   "cell_type": "markdown",
   "metadata": {},
   "source": [
    "I find 344,607 groups globally. Wow!\n",
    "\n",
    "However, I can't seem to get the same number through the json loader. \n",
    "\n",
    "Trying with a low group category, Sci-Fi and Fantasy. \n",
    "\n",
    "I need to use the offset and page parameter.\n",
    "Goal for the day: for category 24, get all of its data into mongo. And make experimental design. "
   ]
  },
  {
   "cell_type": "code",
   "execution_count": 58,
   "metadata": {},
   "outputs": [],
   "source": [
    "# req = requests.get('https://api.meetup.com/find/groups?key={}&category=24&radius=global&page=403'.format(key))\n",
    "req = requests.get('https://api.meetup.com/find/groups?page=5&offset=1&key={}'.format(key))"
   ]
  },
  {
   "cell_type": "code",
   "execution_count": 59,
   "metadata": {},
   "outputs": [
    {
     "data": {
      "text/plain": [
       "{'Content-Type': 'application/json;charset=utf-8', 'Server': 'Apache-Coyote/1.1', 'X-Meetup-server': '4f6999537f81', 'X-Meetup-Request-ID': '36078195-45cf-4709-9d28-22d5bb02079f', 'X-OAuth-Scopes': 'basic', 'X-Accepted-OAuth-Scopes': 'basic', 'X-RateLimit-Limit': '30', 'X-RateLimit-Remaining': '29', 'X-RateLimit-Reset': '10', 'Link': '<https://api.meetup.com/find/groups?page=5&offset=2>; rel=\"next\", <https://api.meetup.com/find/groups?page=5&offset=0>; rel=\"prev\"', 'X-Total-Count': '675', 'ETag': '\"e1f511b5f786c5b0b04bac1fd7172779-gzip\"', 'Content-Encoding': 'gzip', 'Content-Length': '6694', 'Accept-Ranges': 'bytes', 'Date': 'Mon, 11 Feb 2019 22:04:38 GMT', 'Via': '1.1 varnish', 'Connection': 'keep-alive', 'X-Served-By': 'cache-dfw18645-DFW', 'X-Cache': 'MISS', 'X-Cache-Hits': '0', 'X-Timer': 'S1549922678.400131,VS0,VE115', 'Vary': 'Accept-Encoding,User-Agent,Accept-Language'}"
      ]
     },
     "execution_count": 59,
     "metadata": {},
     "output_type": "execute_result"
    }
   ],
   "source": [
    "req.headers"
   ]
  },
  {
   "cell_type": "code",
   "execution_count": 52,
   "metadata": {},
   "outputs": [
    {
     "data": {
      "text/plain": [
       "'[{\"score\":1.0,\"id\":13687982,\"name\":\"Austin User Experience Professionals Association (UXPA)\",\"status\":\"active\",\"link\":\"https://www.meetup.com/Austin-User-Experience-Professionals-Association/\",\"urlname\":\"Austin-User-Experience-Professionals-Association\",\"description\":\"<p>Austin UXPA is a local chapter of the <a href=\\\\\"http://uxpa.org/\\\\\">User Experience Professionals Association&nbsp;(UXPA)</a><span>.&nbsp; We are a non-profit, volunteer-run 503(c) charity with the goal of providing educational and networking events for user experience designers, researchers, information architects and developers.</span></p>\\\\n<p><span>We generally meet the first Tuesday of the month in Austin, but the location varies.&nbsp;&nbsp;</span> <br></p>\\\\n<p><span>Our 2018 Board and Advisory members include:</span>&nbsp; &nbsp;Donna Habersaat, Lawrence Najjar, Danielle Mundle, Ellen Lazaretti, Reyda Taylor, Srikant Chari, Kristin Sullivan, Bart Renner, Kate Moon, Lori Lopez, Kailyn Lim, Erika Grijalva, Larissa Bemis, Andrea Beaumont. <br></p>\\\\n<p><span>Have a question or want to speak at a meeting? Contact a board member by clicking on the </span><a href=\\\\\"http://www.meetup.com/Austin-User-Experience-Professionals-Association/members/?op=leaders\\\\\">Organizers</a><span> area or email us at austinuxpa (at) gmail.com.&nbsp;</span> <br></p>\\\\n<p>Join the conversation through our <a href=\\\\\"https://join.slack.com/t/uxpa-austin/shared_invite/enQtMzYwNjI5MTkxNjk4LWZkNTc1NjlhNTQxMGQ2MTQ2MmZmMjgyMTY4NjE2Yjc4Y2RjNWVmMjgzY2FhZTgwYWMwZGM1ZWJkNzZhZDFiZmM\\\\\">slack channel</a>&nbsp;where we post jobs, information about our events, and share UX resources.</p>\\\\n<p>Membership is completely free, but donations keep the Meetup site running and help us put on awesome events! We graciously accept donations through&nbsp;<a href=\\\\\"https://www.paypal.me/austinuxpa\\\\\">Paypal</a>, or contact Danielle Mundle, treasurer, through Meetup DM.</p>\\\\n<p><span>Austin UXPA Bylaws:&nbsp;<a href=\\\\\"https://goo.gl/qCB8Pn\\\\\">https://goo.gl/qCB8Pn</a></span><span>&nbsp;Please reach out to Ellen Lazaretti for questions.</span>&nbsp; <br></p>\",\"created\":1396448971000,\"city\":\"Austin\",\"untranslated_city\":\"Austin\",\"country\":\"US\",\"localized_country_name\":\"USA\",\"localized_location\":\"Austin, TX\",\"state\":\"TX\",\"join_mode\":\"open\",\"visibility\":\"public\",\"lat\":30.27,\"lon\":-97.74,\"members\":3088,\"organizer\":{\"id\":4036283,\"name\":\"Donna Habersaat\",\"bio\":\"\",\"photo\":{\"id\":264700584,\"highres_link\":\"https://secure.meetupstatic.com/photos/member/9/e/8/8/highres_264700584.jpeg\",\"photo_link\":\"https://secure.meetupstatic.com/photos/member/9/e/8/8/member_264700584.jpeg\",\"thumb_link\":\"https://secure.meetupstatic.com/photos/member/9/e/8/8/thumb_264700584.jpeg\",\"type\":\"member\",\"base_url\":\"https://secure.meetupstatic.com\"}},\"who\":\"UXers\",\"group_photo\":{\"id\":352956182,\"highres_link\":\"https://secure.meetupstatic.com/photos/event/8/d/5/6/highres_352956182.jpeg\",\"photo_link\":\"https://secure.meetupstatic.com/photos/event/8/d/5/6/600_352956182.jpeg\",\"thumb_link\":\"https://secure.meetupstatic.com/photos/event/8/d/5/6/thumb_352956182.jpeg\",\"type\":\"event\",\"base_url\":\"https://secure.meetupstatic.com\"},\"key_photo\":{\"id\":459747508,\"highres_link\":\"https://secure.meetupstatic.com/photos/event/6/b/7/4/highres_459747508.jpeg\",\"photo_link\":\"https://secure.meetupstatic.com/photos/event/6/b/7/4/600_459747508.jpeg\",\"thumb_link\":\"https://secure.meetupstatic.com/photos/event/6/b/7/4/thumb_459747508.jpeg\",\"type\":\"event\",\"base_url\":\"https://secure.meetupstatic.com\"},\"timezone\":\"US/Central\",\"next_event\":{\"id\":\"258304521\",\"name\":\"February ATX UX Book Club - Radical Candor by Kim Scott\",\"yes_rsvp_count\":40,\"time\":1550104200000,\"utc_offset\":-21600000},\"category\":{\"id\":34,\"name\":\"Tech\",\"shortname\":\"tech\",\"sort_name\":\"Tech\"},\"meta_category\":{\"id\":292,\"shortname\":\"tech\",\"name\":\"Tech\",\"sort_name\":\"Tech\",\"photo\":{\"id\":450131949,\"highres_link\":\"https://secure.meetupstatic.com/photos/event/2/e/a/d/highres_450131949.jpeg\",\"photo_link\":\"https://secure.meetupstatic.com/photos/event/2/e/a/d/600_450131949.jpeg\",\"thumb_link\":\"https://secure.meetupstatic.com/photos/event/2/e/a/d/thumb_450131949.jpeg\",\"type\":\"event\",\"base_url\":\"https://secure.meetupstatic.com\"},\"category_ids\":[34]}},{\"score\":1.0,\"id\":18868628,\"name\":\"Agile Austin\",\"status\":\"active\",\"link\":\"https://www.meetup.com/AgileAustin/\",\"urlname\":\"AgileAustin\",\"description\":\"<p><b>Welcome to Agile Austin!</b> <br> <br><b>Keeping Austin Agile, One User Story at a Time.</b> <br> <br>Agile Austin is the largest group of Agile professionals in the central Texas Area. As a 501c(6) non-profit (special thanks to&nbsp;<a href=\\\\\"http://www.andrewskurth.com/\\\\\">Andrews Kurth LLP</a>), we provide and promote gatherings of like-minded individuals in the Austin Area. <br> <br>Agile Austin\\\\u2019s mission is to promote agile software development concepts such as those set forth in the Agile Manifesto (<a href=\\\\\"http://agilemanifesto.org/\\\\\">agilemanifesto.org</a>), to create a public forum for the exchange of practice information, and to create opportunities for the professional development of members. <br> <br>Come join us, share your ideas and learn from others.<br> <br></p>\\\\n<p><img src=\\\\\"https://a248.e.akamai.net/secure.meetupstatic.com/photos/event/9/9/b/3/600_444279347.jpeg\\\\\"></p>\",\"created\":1440543873000,\"city\":\"Austin\",\"untranslated_city\":\"Austin\",\"country\":\"US\",\"localized_country_name\":\"USA\",\"localized_location\":\"Austin, TX\",\"state\":\"TX\",\"join_mode\":\"open\",\"visibility\":\"public\",\"lat\":30.27,\"lon\":-97.74,\"members\":3359,\"organizer\":{\"id\":26699752,\"name\":\"Agile Austin\",\"bio\":\"\",\"photo\":{\"id\":249140421,\"highres_link\":\"https://secure.meetupstatic.com/photos/member/4/f/c/5/highres_249140421.jpeg\",\"photo_link\":\"https://secure.meetupstatic.com/photos/member/4/f/c/5/member_249140421.jpeg\",\"thumb_link\":\"https://secure.meetupstatic.com/photos/member/4/f/c/5/thumb_249140421.jpeg\",\"type\":\"member\",\"base_url\":\"https://secure.meetupstatic.com\"}},\"who\":\"Agilists\",\"key_photo\":{\"id\":478315261,\"highres_link\":\"https://secure.meetupstatic.com/photos/event/d/7/d/d/highres_478315261.jpeg\",\"photo_link\":\"https://secure.meetupstatic.com/photos/event/d/7/d/d/600_478315261.jpeg\",\"thumb_link\":\"https://secure.meetupstatic.com/photos/event/d/7/d/d/thumb_478315261.jpeg\",\"type\":\"event\",\"base_url\":\"https://secure.meetupstatic.com\"},\"timezone\":\"US/Central\",\"next_event\":{\"id\":\"258494476\",\"name\":\"Conference Planning - Keep Austin Agile 2019\",\"yes_rsvp_count\":35,\"time\":1550017800000,\"utc_offset\":-21600000},\"category\":{\"id\":34,\"name\":\"Tech\",\"shortname\":\"tech\",\"sort_name\":\"Tech\"},\"meta_category\":{\"id\":292,\"shortname\":\"tech\",\"name\":\"Tech\",\"sort_name\":\"Tech\",\"photo\":{\"id\":450131949,\"highres_link\":\"https://secure.meetupstatic.com/photos/event/2/e/a/d/highres_450131949.jpeg\",\"photo_link\":\"https://secure.meetupstatic.com/photos/event/2/e/a/d/600_450131949.jpeg\",\"thumb_link\":\"https://secure.meetupstatic.com/photos/event/2/e/a/d/thumb_450131949.jpeg\",\"type\":\"event\",\"base_url\":\"https://secure.meetupstatic.com\"},\"category_ids\":[34]},\"pro_network\":{\"name\":\"Agile Alliance Community\",\"urlname\":\"agilealliance\",\"number_of_groups\":68,\"network_url\":\"https://www.meetup.com/pro/agilealliance/\"}},{\"score\":1.0,\"id\":11046452,\"name\":\"North Austin Soccer\",\"status\":\"active\",\"link\":\"https://www.meetup.com/North-Austin-Soccer/\",\"urlname\":\"North-Austin-Soccer\",\"description\":\"<p><b>ABOUT US</b></p>\\\\n<p>Welcome to North Austin Soccer (NAS). We are the largest and most active organized co-ed soccer pick-up group in Austin with at least 4-5 games per week in North Central Austin and NW Austin/Cedar Park area. We welcome players of all ages above 18 yo and skill levels. If you\\'re looking for fun, active people to play soccer with than you\\'ve come to the right place! </p>\\\\n<p>Right now, NAS plays on a Summer and Winter schedule due to daylight hours and at several locations. </p>\\\\n<p>SUMMER SCHEDULE (5x weekly), Mar - Oct: Sun &amp; Wed at either Elizabeth Milburn Park in Cedar Park (NW Austin) and Tues, Thurs, &amp; Sat @ Brentwood Neighborhood Park, 6710 Arroyo Seco, Austin, TX 78757 (North Central Austin).</p>\\\\n<p>WINTER SCHEDULE (3-4x weekly), Nov -Mar: Due to the lack of daylight during weekdays, we either have to pay for lights to play during the weeknights or just weekends (free). NAS does both! Wed\\'s at&nbsp;Lakeline SoccerZone (futsal style), Friday Night Lights at Round Rock MultiPurpose Complex, Sat @ Brentwood Neighborhood Park,&nbsp;6710 Arroyo Seco, Austin, TX 78757&nbsp;(North Central Austin) and Sun @ Elizabeth Milburn Park (Cedar Park).</p>\\\\n<p>YEAR ROUND: We play year round as league teams (NAAFC - see Pages tab above) through Austin Mens Soccer Association (AMSA), Austin Coed Soccer Association (ACSA) and at Lakeline SoccerZone (Cedar Park).</p>\\\\n<p>Any other suggestions for fields are welcomed - just PM me. BTW, we get about 24-40+ players, so don\\'t let the occasional lack of RSVP\\'s fool you. </p>\\\\n<p>The club is FREE to join. </p>\\\\n<p>We use nice sized goals for matches. On top of that, I purchase bibs, balls and other supplies for our Meetup. </p>\\\\n<p><i><b>I NEED YOUR HELP TO SUSTAIN THIS GROUP: no longer collecting the $1 for games, unless they are reserved fields. I am a licensed Realtor and seasoned investor. All I ask of you is to get to know me, refer me to your friends or people that you know who may need real estate help:&nbsp;</b></i></p>\\\\n<p><i><b>- leasing/apartment locating</b></i></p>\\\\n<p><i><b>- buying</b></i></p>\\\\n<p><i><b>- selling</b></i></p>\\\\n<p><i><b>- investing.&nbsp;</b></i></p>\\\\n<p><i><b>I promise to help them as though they are my family. This in turn will help me generate additional funds to support our wonderful group! Every referral receives a gift in kind.</b> </i>Feel free to visit my website for more information: <a href=\\\\\"http://www.AustinForeverHomes.com\\\\\">www.AustinForeverHomes.com</a> &lt;br&gt;</p>\\\\n<p>For more competitive play, feel free to try out for either our indoor or outdoor teams. These tryouts are posted on this group page or contact Q for details. For indoor, we play at Lakeline SoccerZone in Cedar Park and the schedule varies per season but they are usually in the evening time. For outdoor, we play through ACSA and AMSA. Matches are on Saturday and Sunday\\'s, respectively. Both teams are open leagues (ages above 16 yo and open to both men &amp; women) but you should be semi-competitive in skillset. Costs for either teams are approximately $85/season per player excluding respective organization\\'s annual membership fees ($20-40/yr) &amp; jersey fees.</p>\\\\n<p>Bring a white and dark shirt so we can even out teams in case we do not have enough pennies. &lt;br&gt;</p>\\\\n<p><b>GROUP RULES AND EXPECTATIONS</b></p>\\\\n<p>IMPORTANT: You must RSVP to play!! This is crucial in keeping head count and giving members an idea of how many will attend and how to split the teams. I will cancel the game if we do not have at least 10 RSVPs,which I rarely had to do.</p>\\\\n<p>NO RECRUITING FROM OUTSIDE CLUBS.&nbsp; NAAFC is our league club team for North Austin Soccer.</p>\\\\n<p>GAME RULES:</p>\\\\n<p>- Practice good sportsmanship please! We are not paid to play so let\\'s keep language, fair play and calls in line.</p>\\\\n<p>- Absolutely no slide tackling, unnecessary roughness or fighting. You will be banned from the group.</p>\\\\n<p>- Have fun! We\\'re here to enjoy the game, so let\\'s not forget this main reason.</p>\\\\n<p><b>SIDE NOTES</b></p>\\\\n<p>Always looking for team captains for each league squad. You are responsible for organizing your respective team for competitive matches. Your league player registration fee is paid by me for your volunteer to the club, NAAFC. You represent NAAFC and NAS so being a positive role model and ambassador to the sport and the club is essential.</p>\\\\n<p>We also have sponsors that help to pay for part of our costs of running the group and team fee reductions. <i>Please patronize them.</i> They are listed on the left side of the group\\'s page. See you on the pitch!</p>\\\\n<p>P.S. Like us on FB for more up to date stuff and gatherings: &lt;br&gt;</p>\\\\n<p><a href=\\\\\"https://www.facebook.com/northaustinsoccer\\\\\">https://www.facebook.com/northaustinsoccer</a></p>\\\\n<p>P.S.S. Currently, our monthly happy hour social is at Punch Bowl Social (PBS) in The Domain on the 4th Fri of each month. As always, suggestions for other venues are welcomed. <i>You don\\'t need to drink to have a good time with us. It\\'s a great opportunity to make new connections/friends and network.</i> Come out and just hang. </p>\\\\n<p>&lt;br&gt; &lt;br&gt;</p>\",\"created\":1384118555000,\"city\":\"Austin\",\"untranslated_city\":\"Austin\",\"country\":\"US\",\"localized_country_name\":\"USA\",\"localized_location\":\"Austin, TX\",\"state\":\"TX\",\"join_mode\":\"open\",\"visibility\":\"public_limited\",\"lat\":30.27,\"lon\":-97.74,\"members\":3383,\"organizer\":{\"id\":108058172,\"name\":\"Q\",\"bio\":\"Serial entrepreneur. Real estate investor. Realtor. Mentor.\\\\n\\\\nFan of living a bold, exciting and fun life. No regrets.\\\\nLet me know how I can help you reach your goals - here is to your success!\",\"photo\":{\"id\":260349236,\"highres_link\":\"https://secure.meetupstatic.com/photos/member/2/4/1/4/highres_260349236.jpeg\",\"photo_link\":\"https://secure.meetupstatic.com/photos/member/2/4/1/4/member_260349236.jpeg\",\"thumb_link\":\"https://secure.meetupstatic.com/photos/member/2/4/1/4/thumb_260349236.jpeg\",\"type\":\"member\",\"base_url\":\"https://secure.meetupstatic.com\"}},\"who\":\"Soccer Hooligans\",\"group_photo\":{\"id\":446091445,\"highres_link\":\"https://secure.meetupstatic.com/photos/event/c/8/f/5/highres_446091445.jpeg\",\"photo_link\":\"https://secure.meetupstatic.com/photos/event/c/8/f/5/600_446091445.jpeg\",\"thumb_link\":\"https://secure.meetupstatic.com/photos/event/c/8/f/5/thumb_446091445.jpeg\",\"type\":\"event\",\"base_url\":\"https://secure.meetupstatic.com\"},\"key_photo\":{\"id\":467431054,\"highres_link\":\"https://secure.meetupstatic.com/photos/event/7/9/4/e/highres_467431054.jpeg\",\"photo_link\":\"https://secure.meetupstatic.com/photos/event/7/9/4/e/600_467431054.jpeg\",\"thumb_link\":\"https://secure.meetupstatic.com/photos/event/7/9/4/e/thumb_467431054.jpeg\",\"type\":\"event\",\"base_url\":\"https://secure.meetupstatic.com\"},\"timezone\":\"US/Central\",\"next_event\":{\"id\":\"258882116\",\"name\":\"SOCCER MERCENARIES WANTED: D3 6v6, match at Lakeline SZ - 9 players max\",\"yes_rsvp_count\":4,\"time\":1549936800000,\"utc_offset\":-21600000},\"category\":{\"id\":32,\"name\":\"Sports & Recreation\",\"shortname\":\"sports-recreation\",\"sort_name\":\"Sports & Recreation\"},\"meta_category\":{\"id\":282,\"shortname\":\"sports-fitness\",\"name\":\"Sports & Fitness\",\"sort_name\":\"Sports & Fitness\",\"photo\":{\"id\":450131948,\"highres_link\":\"https://secure.meetupstatic.com/photos/event/2/e/a/c/highres_450131948.jpeg\",\"photo_link\":\"https://secure.meetupstatic.com/photos/event/2/e/a/c/600_450131948.jpeg\",\"thumb_link\":\"https://secure.meetupstatic.com/photos/event/2/e/a/c/thumb_450131948.jpeg\",\"type\":\"event\",\"base_url\":\"https://secure.meetupstatic.com\"},\"category_ids\":[9,32]}},{\"score\":1.0,\"id\":18073002,\"name\":\"General Assembly Austin\",\"status\":\"active\",\"link\":\"https://www.meetup.com/General-Assembly-Austin/\",\"urlname\":\"General-Assembly-Austin\",\"description\":\"At General Assembly, we are creating a global community of individuals empowered to pursue work they love, by offering full-time immersive programs, long-form courses, and classes and workshops on the most relevant skills of the 21st century \\\\u2013 from web development and user experience design, to business fundamentals, to data science, to product management and digital marketing. Established in early 2011 as an innovative community in New York City for entrepreneurs and startup companies, General Assembly is an educational institution that transforms thinkers into creators through education in technology, business and design at thirteen campuses across four continents.\",\"created\":1415142625000,\"city\":\"Austin\",\"untranslated_city\":\"Austin\",\"country\":\"US\",\"localized_country_name\":\"USA\",\"localized_location\":\"Austin, TX\",\"state\":\"TX\",\"join_mode\":\"open\",\"visibility\":\"public\",\"lat\":30.27,\"lon\":-97.74,\"members\":4396,\"organizer\":{\"id\":257630008,\"name\":\"Eric Partlow\",\"bio\":\"\",\"photo\":{\"id\":278411222,\"highres_link\":\"https://secure.meetupstatic.com/photos/member/2/b/d/6/highres_278411222.jpeg\",\"photo_link\":\"https://secure.meetupstatic.com/photos/member/2/b/d/6/member_278411222.jpeg\",\"thumb_link\":\"https://secure.meetupstatic.com/photos/member/2/b/d/6/thumb_278411222.jpeg\",\"type\":\"member\",\"base_url\":\"https://secure.meetupstatic.com\"}},\"who\":\"Learners\",\"key_photo\":{\"id\":467168573,\"highres_link\":\"https://secure.meetupstatic.com/photos/event/2/1/7/d/highres_467168573.jpeg\",\"photo_link\":\"https://secure.meetupstatic.com/photos/event/2/1/7/d/600_467168573.jpeg\",\"thumb_link\":\"https://secure.meetupstatic.com/photos/event/2/1/7/d/thumb_467168573.jpeg\",\"type\":\"event\",\"base_url\":\"https://secure.meetupstatic.com\"},\"timezone\":\"US/Central\",\"next_event\":{\"id\":\"257846721\",\"name\":\"FREE INTRODUCTION TO USER EXPERIENCE DESIGN\",\"yes_rsvp_count\":11,\"time\":1549931400000,\"utc_offset\":-21600000},\"category\":{\"id\":34,\"name\":\"Tech\",\"shortname\":\"tech\",\"sort_name\":\"Tech\"},\"meta_category\":{\"id\":292,\"shortname\":\"tech\",\"name\":\"Tech\",\"sort_name\":\"Tech\",\"photo\":{\"id\":450131949,\"highres_link\":\"https://secure.meetupstatic.com/photos/event/2/e/a/d/highres_450131949.jpeg\",\"photo_link\":\"https://secure.meetupstatic.com/photos/event/2/e/a/d/600_450131949.jpeg\",\"thumb_link\":\"https://secure.meetupstatic.com/photos/event/2/e/a/d/thumb_450131949.jpeg\",\"type\":\"event\",\"base_url\":\"https://secure.meetupstatic.com\"},\"category_ids\":[34]}},{\"score\":1.0,\"id\":1797926,\"name\":\"Austin DevOps\",\"status\":\"active\",\"link\":\"https://www.meetup.com/austin-devops/\",\"urlname\":\"austin-devops\",\"description\":\"<p>Austin DevOps is a community of practitioners who strive to improve through sharing the experiences and expertise.&nbsp;</p>\\\\n<p>\\\\u2022&nbsp;We are excited about the local ops engineer who wants to show how they solved their technical problem.&nbsp;</p>\\\\n<p><span>\\\\u2022&nbsp;We are excited about a cross functional group that came together in the workplace and realized that ensuring responsibility to each other was the key to their success.</span></p>\\\\n<p>\\\\u2022&nbsp;<span>We are interested in failures so we can avoid them ourselves. &nbsp;We have plenty of our own mistakes to make, thank you!</span></p>\\\\n<p>--- Code of Conduct ---</p>\\\\n<p>Austin DevOps has adopted &nbsp;the standard Conference Code of Conduct. &nbsp;This is a community and all will be treated with respect. We appreciate your cooperation up front.</p>\\\\n<p><br></p>\\\\n<p>--- Obligatory list of tools ---</p>\\\\n<p>Working with code? Care about how it gets from a developer workstation to producing money for your employer? DevOps.</p>\\\\n<p>You might be working with one or more of these:</p>\\\\n<p>Jenkins, Chef, Docker, Puppet, Terraform, etcd, ELK stack, &nbsp;Hashistack, Kubernetes ...</p>\\\\n<p>You might be consuming a services like:</p>\\\\n<p>AWS, TravisCI, Azure, Sumologic, New Relic, LogDNA, Papertrail, Data Dog, Shippable, Quay ...</p>\\\\n<p>Or you might be thinking:</p>\\\\n<p>How do I work more effectively to foster ownership of the desired outcome rather than my own individual productivity.&nbsp;</p>\\\\n<p> <br></p>\",\"created\":1300037000000,\"city\":\"Austin\",\"untranslated_city\":\"Austin\",\"country\":\"US\",\"localized_country_name\":\"USA\",\"localized_location\":\"Austin, TX\",\"state\":\"TX\",\"join_mode\":\"open\",\"visibility\":\"public\",\"lat\":30.27,\"lon\":-97.74,\"members\":2221,\"organizer\":{\"id\":201684900,\"name\":\"GeekAustin\",\"bio\":\"\",\"photo\":{\"id\":254849192,\"highres_link\":\"https://secure.meetupstatic.com/photos/member/7/2/0/8/highres_254849192.jpeg\",\"photo_link\":\"https://secure.meetupstatic.com/photos/member/7/2/0/8/member_254849192.jpeg\",\"thumb_link\":\"https://secure.meetupstatic.com/photos/member/7/2/0/8/thumb_254849192.jpeg\",\"type\":\"member\",\"base_url\":\"https://secure.meetupstatic.com\"}},\"who\":\"Members\",\"group_photo\":{\"id\":465637771,\"highres_link\":\"https://secure.meetupstatic.com/photos/event/9/3/8/b/highres_465637771.jpeg\",\"photo_link\":\"https://secure.meetupstatic.com/photos/event/9/3/8/b/600_465637771.jpeg\",\"thumb_link\":\"https://secure.meetupstatic.com/photos/event/9/3/8/b/thumb_465637771.jpeg\",\"type\":\"event\",\"base_url\":\"https://secure.meetupstatic.com\"},\"key_photo\":{\"id\":448827061,\"highres_link\":\"https://secure.meetupstatic.com/photos/event/6/9/b/5/highres_448827061.jpeg\",\"photo_link\":\"https://secure.meetupstatic.com/photos/event/6/9/b/5/600_448827061.jpeg\",\"thumb_link\":\"https://secure.meetupstatic.com/photos/event/6/9/b/5/thumb_448827061.jpeg\",\"type\":\"event\",\"base_url\":\"https://secure.meetupstatic.com\"},\"timezone\":\"US/Central\",\"next_event\":{\"id\":\"255676398\",\"name\":\"A Case for Chaos Engineering & Maintain Full Observability in the Age of Chaos\",\"yes_rsvp_count\":143,\"time\":1549929600000,\"utc_offset\":-21600000},\"category\":{\"id\":34,\"name\":\"Tech\",\"shortname\":\"tech\",\"sort_name\":\"Tech\"},\"meta_category\":{\"id\":292,\"shortname\":\"tech\",\"name\":\"Tech\",\"sort_name\":\"Tech\",\"photo\":{\"id\":450131949,\"highres_link\":\"https://secure.meetupstatic.com/photos/event/2/e/a/d/highres_450131949.jpeg\",\"photo_link\":\"https://secure.meetupstatic.com/photos/event/2/e/a/d/600_450131949.jpeg\",\"thumb_link\":\"https://secure.meetupstatic.com/photos/event/2/e/a/d/thumb_450131949.jpeg\",\"type\":\"event\",\"base_url\":\"https://secure.meetupstatic.com\"},\"category_ids\":[34]}}]'"
      ]
     },
     "execution_count": 52,
     "metadata": {},
     "output_type": "execute_result"
    }
   ],
   "source": [
    "req.text"
   ]
  },
  {
   "cell_type": "code",
   "execution_count": 53,
   "metadata": {
    "scrolled": true
   },
   "outputs": [
    {
     "data": {
      "text/plain": [
       "5"
      ]
     },
     "execution_count": 53,
     "metadata": {},
     "output_type": "execute_result"
    }
   ],
   "source": [
    "len(json.loads(req.text))"
   ]
  },
  {
   "cell_type": "code",
   "execution_count": 12,
   "metadata": {},
   "outputs": [
    {
     "data": {
      "text/plain": [
       "[[1, '7093', 'Arts & Culture'],\n",
       " [2, '51192', 'Career & Business'],\n",
       " [3, '2037', 'Cars & Motorcycles'],\n",
       " [4, '7435', 'Community & Environment'],\n",
       " [5, '4944', 'Dancing'],\n",
       " [6, '9414', 'Education & Learning'],\n",
       " [8, '1498', 'Fashion & Beauty'],\n",
       " [9, '8218', 'Fitness'],\n",
       " [10, '10088', 'Food & Drink'],\n",
       " [11, '7803', 'Games'],\n",
       " [12, '4365', 'LGBT'],\n",
       " [13, '5210', 'Movements & Politics'],\n",
       " [14, '27448', 'Health & Wellbeing'],\n",
       " [15, '4029', 'Hobbies & Crafts'],\n",
       " [16, '14144', 'Language & Ethnic Identity'],\n",
       " [17, '1482', 'Lifestyle'],\n",
       " [18, '4322', 'Book Clubs'],\n",
       " [20, '3500', 'Movies & Film'],\n",
       " [21, '7111', 'Music'],\n",
       " [22, '17362', 'New Age & Spirituality'],\n",
       " [23, '14536', 'Outdoors & Adventure'],\n",
       " [24, '403', 'Paranormal'],\n",
       " [25, '6938', 'Parents & Family'],\n",
       " [26, '2548', 'Pets & Animals'],\n",
       " [27, '3880', 'Photography'],\n",
       " [28, '6290', 'Religion & Beliefs'],\n",
       " [29, '1390', 'Sci-Fi & Fantasy'],\n",
       " [30, '2392', 'Singles'],\n",
       " [31, '23033', 'Socializing'],\n",
       " [32, '9908', 'Sports & Recreation'],\n",
       " [33, '6970', 'Support'],\n",
       " [34, '64325', 'Tech'],\n",
       " [36, '3500', 'Writing']]"
      ]
     },
     "execution_count": 12,
     "metadata": {},
     "output_type": "execute_result"
    }
   ],
   "source": [
    "groups_per_category"
   ]
  }
 ],
 "metadata": {
  "kernelspec": {
   "display_name": "Python 3",
   "language": "python",
   "name": "python3"
  },
  "language_info": {
   "codemirror_mode": {
    "name": "ipython",
    "version": 3
   },
   "file_extension": ".py",
   "mimetype": "text/x-python",
   "name": "python",
   "nbconvert_exporter": "python",
   "pygments_lexer": "ipython3",
   "version": "3.7.1"
  }
 },
 "nbformat": 4,
 "nbformat_minor": 2
}
