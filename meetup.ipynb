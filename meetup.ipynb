{
 "cells": [
  {
   "cell_type": "markdown",
   "metadata": {},
   "source": [
    "# Meetup Project\n",
    "\n",
    "\n",
    "What is in a Meetup API request?\n",
    "\n",
    "1. https://api.meetup.com: The API host.\n",
    "2. /find/groups: The method\n",
    "3. zip=11211&radius=1&category=25: The args. Here is where you may add the API key.\n",
    "    From what I can tell, the only args you can give are zip, radius, and category. So maybe you need to go through the zips \n",
    "4. &order=members:  How to order the results.\n",
    " \n",
    "* To find last event in the list: db.events.find().limit(1).sort({$natural:-1})\n",
    "\n",
    "ssh -L localhost:8888:localhost:8888 -i \"ecdoso.pem\" ec2-user@ec2-52-14-250-184.us-east-2.compute.amazonaws.com\n"
   ]
  },
  {
   "cell_type": "markdown",
   "metadata": {},
   "source": [
    "# Imports / Pymongo Setup"
   ]
  },
  {
   "cell_type": "code",
   "execution_count": 24,
   "metadata": {},
   "outputs": [],
   "source": [
    "from pymongo import MongoClient\n",
    "import pandas as pd\n",
    "import numpy as np\n",
    "import requests\n",
    "import json\n",
    "import warnings\n",
    "import time\n",
    "from pprint import pprint\n",
    "import sys\n",
    "import matplotlib.pyplot as plt\n",
    "sys.path.append('./src')\n",
    "warnings.filterwarnings('ignore')\n",
    "key = open('src/api.txt', 'r').read()\n",
    "\n",
    "client = MongoClient()\n",
    "db = client['meet-ups']\n",
    "collection = db.groups\n",
    "events_coll = db.events_two\n",
    "attendees = db.attendees\n",
    "categories = db.category_per_group"
   ]
  },
  {
   "cell_type": "markdown",
   "metadata": {},
   "source": [
    "## Get number of groups in each category globally"
   ]
  },
  {
   "cell_type": "code",
   "execution_count": 74,
   "metadata": {},
   "outputs": [],
   "source": [
    "from groups_per_category import get_count_of_category, get_ids_of_categories\n",
    "\n",
    "ids, dict_categories = get_ids_of_categories()\n",
    "groups_per_category = [get_count_of_category(dict_categories, category) for category in ids]"
   ]
  },
  {
   "cell_type": "code",
   "execution_count": 75,
   "metadata": {
    "scrolled": true
   },
   "outputs": [
    {
     "name": "stdout",
     "output_type": "stream",
     "text": [
      "[[1, 7129, 'Arts & Culture'],\n",
      " [2, 51451, 'Career & Business'],\n",
      " [3, 2042, 'Cars & Motorcycles'],\n",
      " [4, 7478, 'Community & Environment'],\n",
      " [5, 4951, 'Dancing'],\n",
      " [6, 9452, 'Education & Learning'],\n",
      " [8, 1509, 'Fashion & Beauty'],\n",
      " [9, 8261, 'Fitness'],\n",
      " [10, 10133, 'Food & Drink'],\n",
      " [11, 7841, 'Games'],\n",
      " [12, 4374, 'LGBT'],\n",
      " [13, 5211, 'Movements & Politics'],\n",
      " [14, 27598, 'Health & Wellbeing'],\n",
      " [15, 4054, 'Hobbies & Crafts'],\n",
      " [16, 14186, 'Language & Ethnic Identity'],\n",
      " [17, 1488, 'Lifestyle'],\n",
      " [18, 4339, 'Book Clubs'],\n",
      " [20, 3508, 'Movies & Film'],\n",
      " [21, 7131, 'Music'],\n",
      " [22, 17421, 'New Age & Spirituality'],\n",
      " [23, 14579, 'Outdoors & Adventure'],\n",
      " [24, 407, 'Paranormal'],\n",
      " [25, 6975, 'Parents & Family'],\n",
      " [26, 2556, 'Pets & Animals'],\n",
      " [27, 3889, 'Photography'],\n",
      " [28, 6312, 'Religion & Beliefs'],\n",
      " [29, 1394, 'Sci-Fi & Fantasy'],\n",
      " [30, 2387, 'Singles'],\n",
      " [31, 23125, 'Socializing'],\n",
      " [32, 9928, 'Sports & Recreation'],\n",
      " [33, 7019, 'Support'],\n",
      " [34, 64512, 'Tech'],\n",
      " [36, 3510, 'Writing']]\n"
     ]
    },
    {
     "data": {
      "text/plain": [
       "346150"
      ]
     },
     "execution_count": 75,
     "metadata": {},
     "output_type": "execute_result"
    }
   ],
   "source": [
    "#Total number of groups\n",
    "\n",
    "pprint(groups_per_category)\n",
    "sum([val[1] for val in groups_per_category])"
   ]
  },
  {
   "cell_type": "markdown",
   "metadata": {},
   "source": [
    "I find 344,607 groups globally. Wow!"
   ]
  },
  {
   "cell_type": "markdown",
   "metadata": {},
   "source": [
    "# Download all Meetup Groups"
   ]
  },
  {
   "cell_type": "code",
   "execution_count": 17,
   "metadata": {
    "collapsed": true
   },
   "outputs": [
    {
     "ename": "KeyboardInterrupt",
     "evalue": "",
     "output_type": "error",
     "traceback": [
      "\u001b[0;31m---------------------------------------------------------------------------\u001b[0m",
      "\u001b[0;31mTypeError\u001b[0m                                 Traceback (most recent call last)",
      "\u001b[0;32m~/anaconda3/lib/python3.7/site-packages/urllib3/connectionpool.py\u001b[0m in \u001b[0;36m_make_request\u001b[0;34m(self, conn, method, url, timeout, chunked, **httplib_request_kw)\u001b[0m\n\u001b[1;32m    376\u001b[0m             \u001b[0;32mtry\u001b[0m\u001b[0;34m:\u001b[0m  \u001b[0;31m# Python 2.7, use buffering of HTTP responses\u001b[0m\u001b[0;34m\u001b[0m\u001b[0;34m\u001b[0m\u001b[0m\n\u001b[0;32m--> 377\u001b[0;31m                 \u001b[0mhttplib_response\u001b[0m \u001b[0;34m=\u001b[0m \u001b[0mconn\u001b[0m\u001b[0;34m.\u001b[0m\u001b[0mgetresponse\u001b[0m\u001b[0;34m(\u001b[0m\u001b[0mbuffering\u001b[0m\u001b[0;34m=\u001b[0m\u001b[0;32mTrue\u001b[0m\u001b[0;34m)\u001b[0m\u001b[0;34m\u001b[0m\u001b[0;34m\u001b[0m\u001b[0m\n\u001b[0m\u001b[1;32m    378\u001b[0m             \u001b[0;32mexcept\u001b[0m \u001b[0mTypeError\u001b[0m\u001b[0;34m:\u001b[0m  \u001b[0;31m# Python 3\u001b[0m\u001b[0;34m\u001b[0m\u001b[0;34m\u001b[0m\u001b[0m\n",
      "\u001b[0;31mTypeError\u001b[0m: getresponse() got an unexpected keyword argument 'buffering'",
      "\nDuring handling of the above exception, another exception occurred:\n",
      "\u001b[0;31mKeyboardInterrupt\u001b[0m                         Traceback (most recent call last)",
      "\u001b[0;32m<ipython-input-17-ceee9a74ce10>\u001b[0m in \u001b[0;36m<module>\u001b[0;34m\u001b[0m\n\u001b[1;32m      2\u001b[0m \u001b[0;34m\u001b[0m\u001b[0m\n\u001b[1;32m      3\u001b[0m \u001b[0;32mfor\u001b[0m \u001b[0mnumber\u001b[0m \u001b[0;32min\u001b[0m \u001b[0mids\u001b[0m\u001b[0;34m:\u001b[0m\u001b[0;34m\u001b[0m\u001b[0;34m\u001b[0m\u001b[0m\n\u001b[0;32m----> 4\u001b[0;31m     \u001b[0mget_groups_for_category\u001b[0m\u001b[0;34m(\u001b[0m\u001b[0mnumber\u001b[0m\u001b[0;34m,\u001b[0m \u001b[0mgroups_per_category\u001b[0m\u001b[0;34m)\u001b[0m\u001b[0;34m\u001b[0m\u001b[0;34m\u001b[0m\u001b[0m\n\u001b[0m",
      "\u001b[0;32m~/galvanize/mini_capstone_meetup/src/get_groups_for_category.py\u001b[0m in \u001b[0;36mget_groups_for_category\u001b[0;34m(number, groups)\u001b[0m\n\u001b[1;32m     16\u001b[0m         req = requests.get('https://api.meetup.com/find/groups?key={}\\\n\u001b[1;32m     17\u001b[0m                             \u001b[0;34m&\u001b[0m\u001b[0mcategory\u001b[0m\u001b[0;34m=\u001b[0m\u001b[0;34m{\u001b[0m\u001b[0;34m}\u001b[0m\u001b[0;34m&\u001b[0m\u001b[0mradius\u001b[0m\u001b[0;34m=\u001b[0m\u001b[0;32mglobal\u001b[0m\u001b[0;34m&\u001b[0m\u001b[0;31m\\\u001b[0m\u001b[0;34m\u001b[0m\u001b[0;34m\u001b[0m\u001b[0m\n\u001b[0;32m---> 18\u001b[0;31m                             &offset={}&page=200'.format(key, number, offset))\n\u001b[0m\u001b[1;32m     19\u001b[0m         \u001b[0mjson_data\u001b[0m \u001b[0;34m=\u001b[0m \u001b[0mjson\u001b[0m\u001b[0;34m.\u001b[0m\u001b[0mloads\u001b[0m\u001b[0;34m(\u001b[0m\u001b[0mreq\u001b[0m\u001b[0;34m.\u001b[0m\u001b[0mtext\u001b[0m\u001b[0;34m)\u001b[0m\u001b[0;34m\u001b[0m\u001b[0;34m\u001b[0m\u001b[0m\n\u001b[1;32m     20\u001b[0m         \u001b[0mcollection\u001b[0m\u001b[0;34m.\u001b[0m\u001b[0minsert_many\u001b[0m\u001b[0;34m(\u001b[0m\u001b[0mjson_data\u001b[0m\u001b[0;34m)\u001b[0m\u001b[0;34m\u001b[0m\u001b[0;34m\u001b[0m\u001b[0m\n",
      "\u001b[0;32m~/anaconda3/lib/python3.7/site-packages/requests/api.py\u001b[0m in \u001b[0;36mget\u001b[0;34m(url, params, **kwargs)\u001b[0m\n\u001b[1;32m     73\u001b[0m \u001b[0;34m\u001b[0m\u001b[0m\n\u001b[1;32m     74\u001b[0m     \u001b[0mkwargs\u001b[0m\u001b[0;34m.\u001b[0m\u001b[0msetdefault\u001b[0m\u001b[0;34m(\u001b[0m\u001b[0;34m'allow_redirects'\u001b[0m\u001b[0;34m,\u001b[0m \u001b[0;32mTrue\u001b[0m\u001b[0;34m)\u001b[0m\u001b[0;34m\u001b[0m\u001b[0;34m\u001b[0m\u001b[0m\n\u001b[0;32m---> 75\u001b[0;31m     \u001b[0;32mreturn\u001b[0m \u001b[0mrequest\u001b[0m\u001b[0;34m(\u001b[0m\u001b[0;34m'get'\u001b[0m\u001b[0;34m,\u001b[0m \u001b[0murl\u001b[0m\u001b[0;34m,\u001b[0m \u001b[0mparams\u001b[0m\u001b[0;34m=\u001b[0m\u001b[0mparams\u001b[0m\u001b[0;34m,\u001b[0m \u001b[0;34m**\u001b[0m\u001b[0mkwargs\u001b[0m\u001b[0;34m)\u001b[0m\u001b[0;34m\u001b[0m\u001b[0;34m\u001b[0m\u001b[0m\n\u001b[0m\u001b[1;32m     76\u001b[0m \u001b[0;34m\u001b[0m\u001b[0m\n\u001b[1;32m     77\u001b[0m \u001b[0;34m\u001b[0m\u001b[0m\n",
      "\u001b[0;32m~/anaconda3/lib/python3.7/site-packages/requests/api.py\u001b[0m in \u001b[0;36mrequest\u001b[0;34m(method, url, **kwargs)\u001b[0m\n\u001b[1;32m     58\u001b[0m     \u001b[0;31m# cases, and look like a memory leak in others.\u001b[0m\u001b[0;34m\u001b[0m\u001b[0;34m\u001b[0m\u001b[0;34m\u001b[0m\u001b[0m\n\u001b[1;32m     59\u001b[0m     \u001b[0;32mwith\u001b[0m \u001b[0msessions\u001b[0m\u001b[0;34m.\u001b[0m\u001b[0mSession\u001b[0m\u001b[0;34m(\u001b[0m\u001b[0;34m)\u001b[0m \u001b[0;32mas\u001b[0m \u001b[0msession\u001b[0m\u001b[0;34m:\u001b[0m\u001b[0;34m\u001b[0m\u001b[0;34m\u001b[0m\u001b[0m\n\u001b[0;32m---> 60\u001b[0;31m         \u001b[0;32mreturn\u001b[0m \u001b[0msession\u001b[0m\u001b[0;34m.\u001b[0m\u001b[0mrequest\u001b[0m\u001b[0;34m(\u001b[0m\u001b[0mmethod\u001b[0m\u001b[0;34m=\u001b[0m\u001b[0mmethod\u001b[0m\u001b[0;34m,\u001b[0m \u001b[0murl\u001b[0m\u001b[0;34m=\u001b[0m\u001b[0murl\u001b[0m\u001b[0;34m,\u001b[0m \u001b[0;34m**\u001b[0m\u001b[0mkwargs\u001b[0m\u001b[0;34m)\u001b[0m\u001b[0;34m\u001b[0m\u001b[0;34m\u001b[0m\u001b[0m\n\u001b[0m\u001b[1;32m     61\u001b[0m \u001b[0;34m\u001b[0m\u001b[0m\n\u001b[1;32m     62\u001b[0m \u001b[0;34m\u001b[0m\u001b[0m\n",
      "\u001b[0;32m~/anaconda3/lib/python3.7/site-packages/requests/sessions.py\u001b[0m in \u001b[0;36mrequest\u001b[0;34m(self, method, url, params, data, headers, cookies, files, auth, timeout, allow_redirects, proxies, hooks, stream, verify, cert, json)\u001b[0m\n\u001b[1;32m    531\u001b[0m         }\n\u001b[1;32m    532\u001b[0m         \u001b[0msend_kwargs\u001b[0m\u001b[0;34m.\u001b[0m\u001b[0mupdate\u001b[0m\u001b[0;34m(\u001b[0m\u001b[0msettings\u001b[0m\u001b[0;34m)\u001b[0m\u001b[0;34m\u001b[0m\u001b[0;34m\u001b[0m\u001b[0m\n\u001b[0;32m--> 533\u001b[0;31m         \u001b[0mresp\u001b[0m \u001b[0;34m=\u001b[0m \u001b[0mself\u001b[0m\u001b[0;34m.\u001b[0m\u001b[0msend\u001b[0m\u001b[0;34m(\u001b[0m\u001b[0mprep\u001b[0m\u001b[0;34m,\u001b[0m \u001b[0;34m**\u001b[0m\u001b[0msend_kwargs\u001b[0m\u001b[0;34m)\u001b[0m\u001b[0;34m\u001b[0m\u001b[0;34m\u001b[0m\u001b[0m\n\u001b[0m\u001b[1;32m    534\u001b[0m \u001b[0;34m\u001b[0m\u001b[0m\n\u001b[1;32m    535\u001b[0m         \u001b[0;32mreturn\u001b[0m \u001b[0mresp\u001b[0m\u001b[0;34m\u001b[0m\u001b[0;34m\u001b[0m\u001b[0m\n",
      "\u001b[0;32m~/anaconda3/lib/python3.7/site-packages/requests/sessions.py\u001b[0m in \u001b[0;36msend\u001b[0;34m(self, request, **kwargs)\u001b[0m\n\u001b[1;32m    644\u001b[0m \u001b[0;34m\u001b[0m\u001b[0m\n\u001b[1;32m    645\u001b[0m         \u001b[0;31m# Send the request\u001b[0m\u001b[0;34m\u001b[0m\u001b[0;34m\u001b[0m\u001b[0;34m\u001b[0m\u001b[0m\n\u001b[0;32m--> 646\u001b[0;31m         \u001b[0mr\u001b[0m \u001b[0;34m=\u001b[0m \u001b[0madapter\u001b[0m\u001b[0;34m.\u001b[0m\u001b[0msend\u001b[0m\u001b[0;34m(\u001b[0m\u001b[0mrequest\u001b[0m\u001b[0;34m,\u001b[0m \u001b[0;34m**\u001b[0m\u001b[0mkwargs\u001b[0m\u001b[0;34m)\u001b[0m\u001b[0;34m\u001b[0m\u001b[0;34m\u001b[0m\u001b[0m\n\u001b[0m\u001b[1;32m    647\u001b[0m \u001b[0;34m\u001b[0m\u001b[0m\n\u001b[1;32m    648\u001b[0m         \u001b[0;31m# Total elapsed time of the request (approximately)\u001b[0m\u001b[0;34m\u001b[0m\u001b[0;34m\u001b[0m\u001b[0;34m\u001b[0m\u001b[0m\n",
      "\u001b[0;32m~/anaconda3/lib/python3.7/site-packages/requests/adapters.py\u001b[0m in \u001b[0;36msend\u001b[0;34m(self, request, stream, timeout, verify, cert, proxies)\u001b[0m\n\u001b[1;32m    447\u001b[0m                     \u001b[0mdecode_content\u001b[0m\u001b[0;34m=\u001b[0m\u001b[0;32mFalse\u001b[0m\u001b[0;34m,\u001b[0m\u001b[0;34m\u001b[0m\u001b[0;34m\u001b[0m\u001b[0m\n\u001b[1;32m    448\u001b[0m                     \u001b[0mretries\u001b[0m\u001b[0;34m=\u001b[0m\u001b[0mself\u001b[0m\u001b[0;34m.\u001b[0m\u001b[0mmax_retries\u001b[0m\u001b[0;34m,\u001b[0m\u001b[0;34m\u001b[0m\u001b[0;34m\u001b[0m\u001b[0m\n\u001b[0;32m--> 449\u001b[0;31m                     \u001b[0mtimeout\u001b[0m\u001b[0;34m=\u001b[0m\u001b[0mtimeout\u001b[0m\u001b[0;34m\u001b[0m\u001b[0;34m\u001b[0m\u001b[0m\n\u001b[0m\u001b[1;32m    450\u001b[0m                 )\n\u001b[1;32m    451\u001b[0m \u001b[0;34m\u001b[0m\u001b[0m\n",
      "\u001b[0;32m~/anaconda3/lib/python3.7/site-packages/urllib3/connectionpool.py\u001b[0m in \u001b[0;36murlopen\u001b[0;34m(self, method, url, body, headers, retries, redirect, assert_same_host, timeout, pool_timeout, release_conn, chunked, body_pos, **response_kw)\u001b[0m\n\u001b[1;32m    598\u001b[0m                                                   \u001b[0mtimeout\u001b[0m\u001b[0;34m=\u001b[0m\u001b[0mtimeout_obj\u001b[0m\u001b[0;34m,\u001b[0m\u001b[0;34m\u001b[0m\u001b[0;34m\u001b[0m\u001b[0m\n\u001b[1;32m    599\u001b[0m                                                   \u001b[0mbody\u001b[0m\u001b[0;34m=\u001b[0m\u001b[0mbody\u001b[0m\u001b[0;34m,\u001b[0m \u001b[0mheaders\u001b[0m\u001b[0;34m=\u001b[0m\u001b[0mheaders\u001b[0m\u001b[0;34m,\u001b[0m\u001b[0;34m\u001b[0m\u001b[0;34m\u001b[0m\u001b[0m\n\u001b[0;32m--> 600\u001b[0;31m                                                   chunked=chunked)\n\u001b[0m\u001b[1;32m    601\u001b[0m \u001b[0;34m\u001b[0m\u001b[0m\n\u001b[1;32m    602\u001b[0m             \u001b[0;31m# If we're going to release the connection in ``finally:``, then\u001b[0m\u001b[0;34m\u001b[0m\u001b[0;34m\u001b[0m\u001b[0;34m\u001b[0m\u001b[0m\n",
      "\u001b[0;32m~/anaconda3/lib/python3.7/site-packages/urllib3/connectionpool.py\u001b[0m in \u001b[0;36m_make_request\u001b[0;34m(self, conn, method, url, timeout, chunked, **httplib_request_kw)\u001b[0m\n\u001b[1;32m    378\u001b[0m             \u001b[0;32mexcept\u001b[0m \u001b[0mTypeError\u001b[0m\u001b[0;34m:\u001b[0m  \u001b[0;31m# Python 3\u001b[0m\u001b[0;34m\u001b[0m\u001b[0;34m\u001b[0m\u001b[0m\n\u001b[1;32m    379\u001b[0m                 \u001b[0;32mtry\u001b[0m\u001b[0;34m:\u001b[0m\u001b[0;34m\u001b[0m\u001b[0;34m\u001b[0m\u001b[0m\n\u001b[0;32m--> 380\u001b[0;31m                     \u001b[0mhttplib_response\u001b[0m \u001b[0;34m=\u001b[0m \u001b[0mconn\u001b[0m\u001b[0;34m.\u001b[0m\u001b[0mgetresponse\u001b[0m\u001b[0;34m(\u001b[0m\u001b[0;34m)\u001b[0m\u001b[0;34m\u001b[0m\u001b[0;34m\u001b[0m\u001b[0m\n\u001b[0m\u001b[1;32m    381\u001b[0m                 \u001b[0;32mexcept\u001b[0m \u001b[0mException\u001b[0m \u001b[0;32mas\u001b[0m \u001b[0me\u001b[0m\u001b[0;34m:\u001b[0m\u001b[0;34m\u001b[0m\u001b[0;34m\u001b[0m\u001b[0m\n\u001b[1;32m    382\u001b[0m                     \u001b[0;31m# Remove the TypeError from the exception chain in Python 3;\u001b[0m\u001b[0;34m\u001b[0m\u001b[0;34m\u001b[0m\u001b[0;34m\u001b[0m\u001b[0m\n",
      "\u001b[0;32m~/anaconda3/lib/python3.7/http/client.py\u001b[0m in \u001b[0;36mgetresponse\u001b[0;34m(self)\u001b[0m\n\u001b[1;32m   1319\u001b[0m         \u001b[0;32mtry\u001b[0m\u001b[0;34m:\u001b[0m\u001b[0;34m\u001b[0m\u001b[0;34m\u001b[0m\u001b[0m\n\u001b[1;32m   1320\u001b[0m             \u001b[0;32mtry\u001b[0m\u001b[0;34m:\u001b[0m\u001b[0;34m\u001b[0m\u001b[0;34m\u001b[0m\u001b[0m\n\u001b[0;32m-> 1321\u001b[0;31m                 \u001b[0mresponse\u001b[0m\u001b[0;34m.\u001b[0m\u001b[0mbegin\u001b[0m\u001b[0;34m(\u001b[0m\u001b[0;34m)\u001b[0m\u001b[0;34m\u001b[0m\u001b[0;34m\u001b[0m\u001b[0m\n\u001b[0m\u001b[1;32m   1322\u001b[0m             \u001b[0;32mexcept\u001b[0m \u001b[0mConnectionError\u001b[0m\u001b[0;34m:\u001b[0m\u001b[0;34m\u001b[0m\u001b[0;34m\u001b[0m\u001b[0m\n\u001b[1;32m   1323\u001b[0m                 \u001b[0mself\u001b[0m\u001b[0;34m.\u001b[0m\u001b[0mclose\u001b[0m\u001b[0;34m(\u001b[0m\u001b[0;34m)\u001b[0m\u001b[0;34m\u001b[0m\u001b[0;34m\u001b[0m\u001b[0m\n",
      "\u001b[0;32m~/anaconda3/lib/python3.7/http/client.py\u001b[0m in \u001b[0;36mbegin\u001b[0;34m(self)\u001b[0m\n\u001b[1;32m    294\u001b[0m         \u001b[0;31m# read until we get a non-100 response\u001b[0m\u001b[0;34m\u001b[0m\u001b[0;34m\u001b[0m\u001b[0;34m\u001b[0m\u001b[0m\n\u001b[1;32m    295\u001b[0m         \u001b[0;32mwhile\u001b[0m \u001b[0;32mTrue\u001b[0m\u001b[0;34m:\u001b[0m\u001b[0;34m\u001b[0m\u001b[0;34m\u001b[0m\u001b[0m\n\u001b[0;32m--> 296\u001b[0;31m             \u001b[0mversion\u001b[0m\u001b[0;34m,\u001b[0m \u001b[0mstatus\u001b[0m\u001b[0;34m,\u001b[0m \u001b[0mreason\u001b[0m \u001b[0;34m=\u001b[0m \u001b[0mself\u001b[0m\u001b[0;34m.\u001b[0m\u001b[0m_read_status\u001b[0m\u001b[0;34m(\u001b[0m\u001b[0;34m)\u001b[0m\u001b[0;34m\u001b[0m\u001b[0;34m\u001b[0m\u001b[0m\n\u001b[0m\u001b[1;32m    297\u001b[0m             \u001b[0;32mif\u001b[0m \u001b[0mstatus\u001b[0m \u001b[0;34m!=\u001b[0m \u001b[0mCONTINUE\u001b[0m\u001b[0;34m:\u001b[0m\u001b[0;34m\u001b[0m\u001b[0;34m\u001b[0m\u001b[0m\n\u001b[1;32m    298\u001b[0m                 \u001b[0;32mbreak\u001b[0m\u001b[0;34m\u001b[0m\u001b[0;34m\u001b[0m\u001b[0m\n",
      "\u001b[0;32m~/anaconda3/lib/python3.7/http/client.py\u001b[0m in \u001b[0;36m_read_status\u001b[0;34m(self)\u001b[0m\n\u001b[1;32m    255\u001b[0m \u001b[0;34m\u001b[0m\u001b[0m\n\u001b[1;32m    256\u001b[0m     \u001b[0;32mdef\u001b[0m \u001b[0m_read_status\u001b[0m\u001b[0;34m(\u001b[0m\u001b[0mself\u001b[0m\u001b[0;34m)\u001b[0m\u001b[0;34m:\u001b[0m\u001b[0;34m\u001b[0m\u001b[0;34m\u001b[0m\u001b[0m\n\u001b[0;32m--> 257\u001b[0;31m         \u001b[0mline\u001b[0m \u001b[0;34m=\u001b[0m \u001b[0mstr\u001b[0m\u001b[0;34m(\u001b[0m\u001b[0mself\u001b[0m\u001b[0;34m.\u001b[0m\u001b[0mfp\u001b[0m\u001b[0;34m.\u001b[0m\u001b[0mreadline\u001b[0m\u001b[0;34m(\u001b[0m\u001b[0m_MAXLINE\u001b[0m \u001b[0;34m+\u001b[0m \u001b[0;36m1\u001b[0m\u001b[0;34m)\u001b[0m\u001b[0;34m,\u001b[0m \u001b[0;34m\"iso-8859-1\"\u001b[0m\u001b[0;34m)\u001b[0m\u001b[0;34m\u001b[0m\u001b[0;34m\u001b[0m\u001b[0m\n\u001b[0m\u001b[1;32m    258\u001b[0m         \u001b[0;32mif\u001b[0m \u001b[0mlen\u001b[0m\u001b[0;34m(\u001b[0m\u001b[0mline\u001b[0m\u001b[0;34m)\u001b[0m \u001b[0;34m>\u001b[0m \u001b[0m_MAXLINE\u001b[0m\u001b[0;34m:\u001b[0m\u001b[0;34m\u001b[0m\u001b[0;34m\u001b[0m\u001b[0m\n\u001b[1;32m    259\u001b[0m             \u001b[0;32mraise\u001b[0m \u001b[0mLineTooLong\u001b[0m\u001b[0;34m(\u001b[0m\u001b[0;34m\"status line\"\u001b[0m\u001b[0;34m)\u001b[0m\u001b[0;34m\u001b[0m\u001b[0;34m\u001b[0m\u001b[0m\n",
      "\u001b[0;32m~/anaconda3/lib/python3.7/socket.py\u001b[0m in \u001b[0;36mreadinto\u001b[0;34m(self, b)\u001b[0m\n\u001b[1;32m    587\u001b[0m         \u001b[0;32mwhile\u001b[0m \u001b[0;32mTrue\u001b[0m\u001b[0;34m:\u001b[0m\u001b[0;34m\u001b[0m\u001b[0;34m\u001b[0m\u001b[0m\n\u001b[1;32m    588\u001b[0m             \u001b[0;32mtry\u001b[0m\u001b[0;34m:\u001b[0m\u001b[0;34m\u001b[0m\u001b[0;34m\u001b[0m\u001b[0m\n\u001b[0;32m--> 589\u001b[0;31m                 \u001b[0;32mreturn\u001b[0m \u001b[0mself\u001b[0m\u001b[0;34m.\u001b[0m\u001b[0m_sock\u001b[0m\u001b[0;34m.\u001b[0m\u001b[0mrecv_into\u001b[0m\u001b[0;34m(\u001b[0m\u001b[0mb\u001b[0m\u001b[0;34m)\u001b[0m\u001b[0;34m\u001b[0m\u001b[0;34m\u001b[0m\u001b[0m\n\u001b[0m\u001b[1;32m    590\u001b[0m             \u001b[0;32mexcept\u001b[0m \u001b[0mtimeout\u001b[0m\u001b[0;34m:\u001b[0m\u001b[0;34m\u001b[0m\u001b[0;34m\u001b[0m\u001b[0m\n\u001b[1;32m    591\u001b[0m                 \u001b[0mself\u001b[0m\u001b[0;34m.\u001b[0m\u001b[0m_timeout_occurred\u001b[0m \u001b[0;34m=\u001b[0m \u001b[0;32mTrue\u001b[0m\u001b[0;34m\u001b[0m\u001b[0;34m\u001b[0m\u001b[0m\n",
      "\u001b[0;32m~/anaconda3/lib/python3.7/site-packages/urllib3/contrib/pyopenssl.py\u001b[0m in \u001b[0;36mrecv_into\u001b[0;34m(self, *args, **kwargs)\u001b[0m\n\u001b[1;32m    292\u001b[0m     \u001b[0;32mdef\u001b[0m \u001b[0mrecv_into\u001b[0m\u001b[0;34m(\u001b[0m\u001b[0mself\u001b[0m\u001b[0;34m,\u001b[0m \u001b[0;34m*\u001b[0m\u001b[0margs\u001b[0m\u001b[0;34m,\u001b[0m \u001b[0;34m**\u001b[0m\u001b[0mkwargs\u001b[0m\u001b[0;34m)\u001b[0m\u001b[0;34m:\u001b[0m\u001b[0;34m\u001b[0m\u001b[0;34m\u001b[0m\u001b[0m\n\u001b[1;32m    293\u001b[0m         \u001b[0;32mtry\u001b[0m\u001b[0;34m:\u001b[0m\u001b[0;34m\u001b[0m\u001b[0;34m\u001b[0m\u001b[0m\n\u001b[0;32m--> 294\u001b[0;31m             \u001b[0;32mreturn\u001b[0m \u001b[0mself\u001b[0m\u001b[0;34m.\u001b[0m\u001b[0mconnection\u001b[0m\u001b[0;34m.\u001b[0m\u001b[0mrecv_into\u001b[0m\u001b[0;34m(\u001b[0m\u001b[0;34m*\u001b[0m\u001b[0margs\u001b[0m\u001b[0;34m,\u001b[0m \u001b[0;34m**\u001b[0m\u001b[0mkwargs\u001b[0m\u001b[0;34m)\u001b[0m\u001b[0;34m\u001b[0m\u001b[0;34m\u001b[0m\u001b[0m\n\u001b[0m\u001b[1;32m    295\u001b[0m         \u001b[0;32mexcept\u001b[0m \u001b[0mOpenSSL\u001b[0m\u001b[0;34m.\u001b[0m\u001b[0mSSL\u001b[0m\u001b[0;34m.\u001b[0m\u001b[0mSysCallError\u001b[0m \u001b[0;32mas\u001b[0m \u001b[0me\u001b[0m\u001b[0;34m:\u001b[0m\u001b[0;34m\u001b[0m\u001b[0;34m\u001b[0m\u001b[0m\n\u001b[1;32m    296\u001b[0m             \u001b[0;32mif\u001b[0m \u001b[0mself\u001b[0m\u001b[0;34m.\u001b[0m\u001b[0msuppress_ragged_eofs\u001b[0m \u001b[0;32mand\u001b[0m \u001b[0me\u001b[0m\u001b[0;34m.\u001b[0m\u001b[0margs\u001b[0m \u001b[0;34m==\u001b[0m \u001b[0;34m(\u001b[0m\u001b[0;34m-\u001b[0m\u001b[0;36m1\u001b[0m\u001b[0;34m,\u001b[0m \u001b[0;34m'Unexpected EOF'\u001b[0m\u001b[0;34m)\u001b[0m\u001b[0;34m:\u001b[0m\u001b[0;34m\u001b[0m\u001b[0;34m\u001b[0m\u001b[0m\n",
      "\u001b[0;32m~/anaconda3/lib/python3.7/site-packages/OpenSSL/SSL.py\u001b[0m in \u001b[0;36mrecv_into\u001b[0;34m(self, buffer, nbytes, flags)\u001b[0m\n\u001b[1;32m   1811\u001b[0m             \u001b[0mresult\u001b[0m \u001b[0;34m=\u001b[0m \u001b[0m_lib\u001b[0m\u001b[0;34m.\u001b[0m\u001b[0mSSL_peek\u001b[0m\u001b[0;34m(\u001b[0m\u001b[0mself\u001b[0m\u001b[0;34m.\u001b[0m\u001b[0m_ssl\u001b[0m\u001b[0;34m,\u001b[0m \u001b[0mbuf\u001b[0m\u001b[0;34m,\u001b[0m \u001b[0mnbytes\u001b[0m\u001b[0;34m)\u001b[0m\u001b[0;34m\u001b[0m\u001b[0;34m\u001b[0m\u001b[0m\n\u001b[1;32m   1812\u001b[0m         \u001b[0;32melse\u001b[0m\u001b[0;34m:\u001b[0m\u001b[0;34m\u001b[0m\u001b[0;34m\u001b[0m\u001b[0m\n\u001b[0;32m-> 1813\u001b[0;31m             \u001b[0mresult\u001b[0m \u001b[0;34m=\u001b[0m \u001b[0m_lib\u001b[0m\u001b[0;34m.\u001b[0m\u001b[0mSSL_read\u001b[0m\u001b[0;34m(\u001b[0m\u001b[0mself\u001b[0m\u001b[0;34m.\u001b[0m\u001b[0m_ssl\u001b[0m\u001b[0;34m,\u001b[0m \u001b[0mbuf\u001b[0m\u001b[0;34m,\u001b[0m \u001b[0mnbytes\u001b[0m\u001b[0;34m)\u001b[0m\u001b[0;34m\u001b[0m\u001b[0;34m\u001b[0m\u001b[0m\n\u001b[0m\u001b[1;32m   1814\u001b[0m         \u001b[0mself\u001b[0m\u001b[0;34m.\u001b[0m\u001b[0m_raise_ssl_error\u001b[0m\u001b[0;34m(\u001b[0m\u001b[0mself\u001b[0m\u001b[0;34m.\u001b[0m\u001b[0m_ssl\u001b[0m\u001b[0;34m,\u001b[0m \u001b[0mresult\u001b[0m\u001b[0;34m)\u001b[0m\u001b[0;34m\u001b[0m\u001b[0;34m\u001b[0m\u001b[0m\n\u001b[1;32m   1815\u001b[0m \u001b[0;34m\u001b[0m\u001b[0m\n",
      "\u001b[0;31mKeyboardInterrupt\u001b[0m: "
     ]
    }
   ],
   "source": [
    "from get_groups_for_category import * \n",
    "\n",
    "for number in ids:\n",
    "    get_groups_for_category(number, groups_per_category)"
   ]
  },
  {
   "cell_type": "markdown",
   "metadata": {},
   "source": [
    "# Visibilities\n",
    "\n",
    "88% of the groups are public, 12% are public_limited, and 0.3% are members.\n",
    "\n",
    "Public_limited allows you to see the events, but not who went. Members does not allow you to even see the events. \n",
    "Thus, these groups both need to be deleted."
   ]
  },
  {
   "cell_type": "code",
   "execution_count": 118,
   "metadata": {},
   "outputs": [
    {
     "data": {
      "text/plain": [
       "[['public', 100.0]]"
      ]
     },
     "execution_count": 118,
     "metadata": {},
     "output_type": "execute_result"
    }
   ],
   "source": [
    "def percent_each_visibility(collection):\n",
    "    visibilities = collection.distinct('visibility')\n",
    "    total_count = collection.count()\n",
    "    percentages = [[option, round(collection.find({'visibility': option}).count() / total_count, 3) * 100] for option in visibilities]\n",
    "    return percentages\n",
    "\n",
    "#Remove these visibilities from meetups.\n",
    "\n",
    "collection.delete_many({'visibility' : {'$in' : ['public_limited', 'members']}})\n",
    "\n",
    "percent_each_visibility(collection)"
   ]
  },
  {
   "cell_type": "markdown",
   "metadata": {},
   "source": [
    "# Download the events for a particular group"
   ]
  },
  {
   "cell_type": "code",
   "execution_count": 140,
   "metadata": {},
   "outputs": [
    {
     "name": "stdout",
     "output_type": "stream",
     "text": [
      "168\n",
      "{'created': 1351348658000,\n",
      " 'date_in_series_pattern': False,\n",
      " 'description': '<p>\\xa0</p> <p>\\xa0</p> <p>\\xa0</p> <p>\\xa0</p> <p>\\xa0</p> '\n",
      "                \"<p>Our FIRST MUFON Meetup \\xa0will be at <b>Mimi's \"\n",
      "                'Cafe</b></p> <p>at the Avenues in Viera, FL. \\xa0From 5:30 pm '\n",
      "                'to 8:30 pm.</p> <p>\\xa0</p> <p>Please RSVP for this meeting '\n",
      "                'and all future meetings.</p> <p>Feel free to bring a friend '\n",
      "                'or two. See you there!</p> <p>\\xa0</p> <p>Your Host for the '\n",
      "                'evening will be</p> <p><b>MUFON</b> Assistant State Director '\n",
      "                'Teri Lynge</p> ',\n",
      " 'duration': 10800000,\n",
      " 'group': {'country': 'us',\n",
      "           'created': 1351346689000,\n",
      "           'id': 5582872,\n",
      "           'join_mode': 'open',\n",
      "           'lat': 27.969999313354492,\n",
      "           'localized_location': 'Palm Bay, FL',\n",
      "           'lon': -80.6500015258789,\n",
      "           'name': 'Florida MUFON UFO Research and Investigations',\n",
      "           'region': 'en_US',\n",
      "           'state': 'FL',\n",
      "           'timezone': 'US/Eastern',\n",
      "           'urlname': 'Florida-MUFON-UFO-Research-and-Investigations',\n",
      "           'who': 'UFOlogists'},\n",
      " 'how_to_find_us': 'Map provided',\n",
      " 'id': '88793112',\n",
      " 'link': 'https://www.meetup.com/Florida-MUFON-UFO-Research-and-Investigations/events/88793112/',\n",
      " 'local_date': '2012-12-06',\n",
      " 'local_time': '17:30',\n",
      " 'manual_attendance_count': 12,\n",
      " 'name': \"Meeting on December 6th, 2012, Mimi's Cafe at the Avenues in Viera.\",\n",
      " 'status': 'past',\n",
      " 'time': 1354833000000,\n",
      " 'updated': 1354995467000,\n",
      " 'utc_offset': -18000000,\n",
      " 'venue': {'address_1': '6630 Colonnade Avenue',\n",
      "           'city': 'Melbourne',\n",
      "           'country': 'us',\n",
      "           'id': 960032,\n",
      "           'lat': 28.247121810913086,\n",
      "           'localized_country_name': 'USA',\n",
      "           'lon': -80.72822570800781,\n",
      "           'name': \"Mimi's Cafe\",\n",
      "           'phone': '321-638-0404',\n",
      "           'repinned': False,\n",
      "           'state': 'FL',\n",
      "           'zip': '32940'},\n",
      " 'visibility': 'public',\n",
      " 'waitlist_count': 0,\n",
      " 'yes_rsvp_count': 15}\n"
     ]
    }
   ],
   "source": [
    "req = requests.get('https://api.meetup.com/Florida-MUFON-UFO-Research-and-Investigations/events?\\\n",
    "                    key={}&status=past'.format(key))\n",
    "\n",
    "print(req.headers['X-Total-Count'])\n",
    "pprint(json.loads(req.text)[0])"
   ]
  },
  {
   "cell_type": "markdown",
   "metadata": {},
   "source": [
    "# Download all the events... ever\n"
   ]
  },
  {
   "cell_type": "code",
   "execution_count": null,
   "metadata": {
    "collapsed": true
   },
   "outputs": [
    {
     "name": "stdout",
     "output_type": "stream",
     "text": [
      "Something went wrong!\n",
      "Inserted meetup-group-QceIsyDn into db.events!\n",
      "Inserted Computer-Vision-and-Artificial-Intelligence-in-Agriculture into db.events!\n",
      "Inserted Tantra-Lessons-in-Sacred-Sensuality into db.events!\n",
      "Something went wrong!\n",
      "Inserted Singapore-Skiing-Snowboarding into db.events!\n",
      "Inserted Ecouter-parler-l-anglais-le-francais-et-le-chinois into db.events!\n",
      "Inserted ProductTank-Cork into db.events!\n",
      "Something went wrong!\n",
      "Inserted Guitar-Circles-and-Acoustic-Jams into db.events!\n",
      "Something went wrong!\n",
      "Something went wrong!\n",
      "Something went wrong!\n",
      "Something went wrong!\n",
      "Inserted Fayetteville-Hyperglots-and-Language-Learners-Group into db.events!\n",
      "Inserted Bachata-and-Salsa-Dallas into db.events!\n",
      "Inserted Rotterdam-Sound-Bath-Meetup into db.events!\n",
      "Inserted Hilversum-Internet-of-things-IoT-SODAQ into db.events!\n",
      "Inserted Hudson-Valley-Fiction-Writers-Workshop into db.events!\n"
     ]
    }
   ],
   "source": [
    "from get_all_events import *\n",
    "\n",
    "get_all_events(collection)\n"
   ]
  },
  {
   "cell_type": "markdown",
   "metadata": {},
   "source": [
    "# Find the attendees for a particular event"
   ]
  },
  {
   "cell_type": "code",
   "execution_count": 135,
   "metadata": {},
   "outputs": [
    {
     "data": {
      "text/plain": [
       "[7385260, 26274872, 71777132, 62218232, 16899141, 56597972, 12450926]"
      ]
     },
     "execution_count": 135,
     "metadata": {},
     "output_type": "execute_result"
    }
   ],
   "source": [
    "req = requests.get('https://api.meetup.com/Florida-MUFON-UFO-Research-and-Investigations/events/88793112/rsvps?\\\n",
    "                    key={}'.format(key))\n",
    "\n",
    "#Insert the attendees into their own database.\n",
    "id_data = json.loads(req.text)\n",
    "\n",
    "#get unique identifiers out\n",
    "collection.distinct('member.id')"
   ]
  },
  {
   "cell_type": "markdown",
   "metadata": {},
   "source": [
    "# Remove the groups for which events already done. "
   ]
  },
  {
   "cell_type": "code",
   "execution_count": 2,
   "metadata": {},
   "outputs": [],
   "source": [
    "f = open('new_groups.txt', 'r')\n",
    "new_groups_done = f.read().replace('\"', '').replace(\",\", \"\").splitlines()\n",
    "f.close()\n",
    "\n",
    "# get total list of groups from meet-ups.groups\n",
    "# all_groups = set(collection.distinct('urlname'))\n",
    "\n",
    "# # list of usernames in groups and not in groups_done\n",
    "# groups_not_done = [group for group in all_groups if group not in groups_done]\n",
    "\n",
    "# f= open(\"groups_not_done.txt\",\"w+\")\n",
    "# f.write(str(groups_not_done))\n",
    "\n",
    "# f = open('groups_not_done.txt', 'r')\n",
    "# groups_not_done = f.read().replace(\"'\", '').replace(\" \", '').split(',')\n",
    "# f.close()"
   ]
  },
  {
   "cell_type": "markdown",
   "metadata": {},
   "source": [
    "# Metacategories\n",
    "\n",
    "There are 33 categories, but only 24 meta-categories. Categories are merged into metacategories; for example, New Age & Spirituality, Paranormal, and Religion and Beliefs are all put into Beliefs. \n",
    "\n",
    "So metacategories is not likely to be a helpful category. \n"
   ]
  },
  {
   "cell_type": "code",
   "execution_count": 141,
   "metadata": {},
   "outputs": [
    {
     "name": "stdout",
     "output_type": "stream",
     "text": [
      "[[132, 'Beliefs', [22, 24, 28]],\n",
      " [122, 'Arts', [1]],\n",
      " [212, 'Language & Culture', [16]],\n",
      " [272, 'Social', [31]],\n",
      " [583, 'Film', [20]],\n",
      " [162, 'Food & Drink', [10]],\n",
      " [292, 'Tech', [34]],\n",
      " [532, 'Hobbies & Crafts', [15]],\n",
      " [552, 'Movements', [4, 13]],\n",
      " [302, 'Health & Wellness', [14, 33]],\n",
      " [585, 'LGBTQ', [12]],\n",
      " [522, 'Career & Business', [2]],\n",
      " [582, 'Writing', [36]],\n",
      " [562, 'Learning', [6]],\n",
      " [512, 'Music', [21]],\n",
      " [242, 'Outdoors & Adventure', [3, 23]],\n",
      " [542, 'Dance', [5]],\n",
      " [182, 'Sci-Fi & Games', [11, 29]],\n",
      " [222, 'Book Clubs', [18]],\n",
      " [232, 'Family', [25]],\n",
      " [262, 'Photography', [27]],\n",
      " [282, 'Sports & Fitness', [9, 32]],\n",
      " [584, 'Fashion & Beauty', [8]],\n",
      " [252, 'Pets', [26]]]\n"
     ]
    }
   ],
   "source": [
    "meta_categories = [[element['id'],element['name'], element['category_ids']] for element in collection.distinct('meta_category')]\n",
    "\n",
    "pprint(meta_categories)"
   ]
  },
  {
   "cell_type": "markdown",
   "metadata": {},
   "source": [
    "# Create New MongoDB with categoryID for each group"
   ]
  },
  {
   "cell_type": "code",
   "execution_count": null,
   "metadata": {},
   "outputs": [],
   "source": [
    "# Purpose: Need to get the different categories\n",
    "# But the events db doesn't have category IDs. \n",
    "  \n",
    "def make_mongo_db_with_category_id_for_group():  \n",
    "    # create a new mongo collection that has category_id for every 10th group.\n",
    "    for group in new_groups_done[2::10]:\n",
    "        try:\n",
    "            cat_id = db.groups.find_one({'urlname' : group})['category']['id']\n",
    "            print(group, cat_id)\n",
    "            categories.insert_one({'group' : group, \n",
    "                                   'category_id' : cat_id})\n",
    "        except:\n",
    "            print('Something went wrong')\n",
    "\n",
    "make_mongo_db_with_category_id_for_group()\n"
   ]
  },
  {
   "cell_type": "markdown",
   "metadata": {},
   "source": [
    "# Use category_per_group collection to get 100 groups per category"
   ]
  },
  {
   "cell_type": "markdown",
   "metadata": {},
   "source": [
    "We have 191,651 groups.\n",
    "\n",
    "Dict has event: number\n",
    "\n",
    "1. Filter event by key > 50 - turn into list.\n",
    "2. The function will take the urlname > find_all in events that match that urlname > for each of those events, do api call that gets attendees > insert that result into new mongo db. "
   ]
  },
  {
   "cell_type": "code",
   "execution_count": 5,
   "metadata": {},
   "outputs": [],
   "source": [
    "from list_groups_and_pull_attendees import create_list_of_groups_per_category, pull_attendees_for_events_for_group\n",
    "\n",
    "hundred_groups_per_cat = create_list_of_groups_per_category()\n",
    "pull_attendees_for_events_for_group(hundred_groups_per_cat[136:])"
   ]
  },
  {
   "cell_type": "markdown",
   "metadata": {},
   "source": [
    "# Analysis: For every attendee, did you come back?"
   ]
  },
  {
   "cell_type": "code",
   "execution_count": null,
   "metadata": {},
   "outputs": [],
   "source": [
    "from did_they_come_back import * \n",
    "    \n",
    "did_they_come_back()"
   ]
  },
  {
   "cell_type": "markdown",
   "metadata": {},
   "source": [
    "# Move data to pandas from mongo"
   ]
  },
  {
   "cell_type": "code",
   "execution_count": 144,
   "metadata": {},
   "outputs": [
    {
     "data": {
      "text/html": [
       "<div>\n",
       "<style scoped>\n",
       "    .dataframe tbody tr th:only-of-type {\n",
       "        vertical-align: middle;\n",
       "    }\n",
       "\n",
       "    .dataframe tbody tr th {\n",
       "        vertical-align: top;\n",
       "    }\n",
       "\n",
       "    .dataframe thead th {\n",
       "        text-align: right;\n",
       "    }\n",
       "</style>\n",
       "<table border=\"1\" class=\"dataframe\">\n",
       "  <thead>\n",
       "    <tr style=\"text-align: right;\">\n",
       "      <th></th>\n",
       "      <th>Unnamed: 0</th>\n",
       "      <th>Category_ID</th>\n",
       "      <th>Percent_Return</th>\n",
       "      <th>_id</th>\n",
       "      <th>urlname</th>\n",
       "      <th>Category_Name</th>\n",
       "    </tr>\n",
       "  </thead>\n",
       "  <tbody>\n",
       "    <tr>\n",
       "      <th>7</th>\n",
       "      <td>7</td>\n",
       "      <td>1</td>\n",
       "      <td>0.526882</td>\n",
       "      <td>5c66ff1e0f19850d1d7a4951</td>\n",
       "      <td>Arty-Creatives-Edinburgh-ACE</td>\n",
       "      <td>'Arts &amp; Culture'</td>\n",
       "    </tr>\n",
       "    <tr>\n",
       "      <th>8</th>\n",
       "      <td>8</td>\n",
       "      <td>1</td>\n",
       "      <td>0.377863</td>\n",
       "      <td>5c66ff1e0f19850d1d7a4952</td>\n",
       "      <td>Art-Gallery-Crawl-in-Barcelona</td>\n",
       "      <td>'Arts &amp; Culture'</td>\n",
       "    </tr>\n",
       "    <tr>\n",
       "      <th>9</th>\n",
       "      <td>9</td>\n",
       "      <td>1</td>\n",
       "      <td>0.404494</td>\n",
       "      <td>5c66ff1e0f19850d1d7a4953</td>\n",
       "      <td>English-Speaking-Sketchbook-Group-ESSG</td>\n",
       "      <td>'Arts &amp; Culture'</td>\n",
       "    </tr>\n",
       "    <tr>\n",
       "      <th>10</th>\n",
       "      <td>10</td>\n",
       "      <td>1</td>\n",
       "      <td>0.257143</td>\n",
       "      <td>5c66ff1e0f19850d1d7a4954</td>\n",
       "      <td>http-theoldstonehouse-org-events</td>\n",
       "      <td>'Arts &amp; Culture'</td>\n",
       "    </tr>\n",
       "    <tr>\n",
       "      <th>11</th>\n",
       "      <td>11</td>\n",
       "      <td>1</td>\n",
       "      <td>0.477370</td>\n",
       "      <td>5c66ff1e0f19850d1d7a4955</td>\n",
       "      <td>Holborn-Life-Drawing</td>\n",
       "      <td>'Arts &amp; Culture'</td>\n",
       "    </tr>\n",
       "  </tbody>\n",
       "</table>\n",
       "</div>"
      ],
      "text/plain": [
       "    Unnamed: 0  Category_ID  Percent_Return                       _id  \\\n",
       "7            7            1        0.526882  5c66ff1e0f19850d1d7a4951   \n",
       "8            8            1        0.377863  5c66ff1e0f19850d1d7a4952   \n",
       "9            9            1        0.404494  5c66ff1e0f19850d1d7a4953   \n",
       "10          10            1        0.257143  5c66ff1e0f19850d1d7a4954   \n",
       "11          11            1        0.477370  5c66ff1e0f19850d1d7a4955   \n",
       "\n",
       "                                   urlname     Category_Name  \n",
       "7             Arty-Creatives-Edinburgh-ACE  'Arts & Culture'  \n",
       "8           Art-Gallery-Crawl-in-Barcelona  'Arts & Culture'  \n",
       "9   English-Speaking-Sketchbook-Group-ESSG  'Arts & Culture'  \n",
       "10        http-theoldstonehouse-org-events  'Arts & Culture'  \n",
       "11                    Holborn-Life-Drawing  'Arts & Culture'  "
      ]
     },
     "execution_count": 144,
     "metadata": {},
     "output_type": "execute_result"
    }
   ],
   "source": [
    "percent_returns = pd.read_csv('./src/Percent_returns.csv')\n",
    "\n",
    "# Remove 100% returns, probably demonstrates some error.\n",
    "ones_removed_percent_returns = percent_returns[percent_returns.Percent_Return < 1]\n",
    "\n",
    "# Remove categories with less than 15 groups\n",
    "grouped = ones_removed_percent_returns.groupby('Category_ID')\n",
    "grouped = grouped.filter(lambda x: len(x) > 15)\n",
    "\n",
    "#Put category name on chart\n",
    "cat_ids = grouped['Category_ID'].unique()\n",
    "\n",
    "def get_categories(cat_ids):\n",
    "    categories = []\n",
    "    for cat_id in cat_ids:\n",
    "        for group in groups_per_category:\n",
    "            if group[0] == cat_id:\n",
    "                categories.append([cat_id, group[2]])\n",
    "    return categories\n",
    "\n",
    "categories = get_categories(cat_ids)\n",
    "grouped['Category_Name'] = grouped['Category_ID'].apply(lambda x: [str(group[1]) for group in categories if group[0] == x])\n",
    "\n",
    "#this still has over 500 results. \n",
    "grouped['Category_Name'] = grouped['Category_Name'].apply(lambda x: str(x).replace(\"[\", \"\").replace(']', ''))\n",
    "\n",
    "grouped.head()"
   ]
  },
  {
   "cell_type": "code",
   "execution_count": 157,
   "metadata": {},
   "outputs": [
    {
     "name": "stdout",
     "output_type": "stream",
     "text": [
      "Category_Name\n",
      "'Arts & Culture'                41\n",
      "'Career & Business'             91\n",
      "'Community & Environment'       42\n",
      "'Games'                         33\n",
      "'Health & Wellbeing'            52\n",
      "'LGBT'                          17\n",
      "'Language & Ethnic Identity'    52\n",
      "'Movements & Politics'          30\n",
      "'New Age & Spirituality'        74\n",
      "'Religion & Beliefs'            31\n",
      "'Singles'                       16\n",
      "'Tech'                          80\n",
      "Name: Category_Name, dtype: int64\n"
     ]
    },
    {
     "data": {
      "image/png": "[encoded data removed]",
      "text/plain": [
       "<Figure size 720x720 with 1 Axes>"
      ]
     },
     "metadata": {
      "needs_background": "light"
     },
     "output_type": "display_data"
    }
   ],
   "source": [
    "count = grouped.groupby('Category_Name')['Category_Name'].count()\n",
    "print(count)\n",
    "\n",
    "fig, ax = plt.subplots(figsize=(10,10))\n",
    "ax.bar(x = count.index, height = count)\n",
    "ax.set_xlabel(cou)\n",
    "_ = ax.tick_params(axis='x', rotation=45)\n"
   ]
  },
  {
   "cell_type": "code",
   "execution_count": 31,
   "metadata": {},
   "outputs": [
    {
     "data": {
      "image/png": "[encoded data removed]",
      "text/plain": [
       "<Figure size 432x288 with 1 Axes>"
      ]
     },
     "metadata": {
      "needs_background": "light"
     },
     "output_type": "display_data"
    }
   ],
   "source": [
    "fig, ax = plt.subplots()\n",
    "_ = ax.hist(ones_removed_percent_returns.Percent_Return)"
   ]
  },
  {
   "cell_type": "markdown",
   "metadata": {},
   "source": [
    "# Next steps\n",
    "\n",
    "Remove groups that have only had 1 event. \n",
    "\n",
    "Remove groups that have < n events.\n",
    "\n",
    "How much do retention rates change over time? That would be beautiful to visualize.\n",
    "\n",
    "Especially for Austin-Texas meetup group\n",
    "\n",
    "## To figure out category popularity\n",
    "\n",
    "* Get average number of attendees / event for every category.\n",
    "\n",
    "* Total events per category (not very helpful)\n",
    "\n",
    "* Average events / group per category. "
   ]
  }
 ],
 "metadata": {
  "kernelspec": {
   "display_name": "Python 3",
   "language": "python",
   "name": "python3"
  },
  "language_info": {
   "codemirror_mode": {
    "name": "ipython",
    "version": 3
   },
   "file_extension": ".py",
   "mimetype": "text/x-python",
   "name": "python",
   "nbconvert_exporter": "python",
   "pygments_lexer": "ipython3",
   "version": "3.7.1"
  }
 },
 "nbformat": 4,
 "nbformat_minor": 2
}
