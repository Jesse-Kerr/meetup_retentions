{
 "cells": [
  {
   "cell_type": "markdown",
   "metadata": {},
   "source": [
    "# Meetup Project\n",
    "\n",
    "\n",
    "What is in a Meetup API request?\n",
    "\n",
    "1. https://api.meetup.com: The API host.\n",
    "2. /find/groups: The method\n",
    "3. zip=11211&radius=1&category=25: The args. Here is where you may add the API key.\n",
    "    From what I can tell, the only args you can give are zip, radius, and category. So maybe you need to go through the zips \n",
    "4. &order=members:  How to order the results.\n",
    "\n",
    "\n",
    "-  Private groups I cannot see the members who go, only the number. We will need to see how many groups are public.\n"
   ]
  },
  {
   "cell_type": "markdown",
   "metadata": {},
   "source": [
    "# Imports / Pymongo Setup"
   ]
  },
  {
   "cell_type": "code",
   "execution_count": 150,
   "metadata": {},
   "outputs": [],
   "source": [
    "from pymongo import MongoClient\n",
    "import numpy as np\n",
    "import requests\n",
    "import json\n",
    "import warnings\n",
    "from pprint import pprint\n",
    "warnings.filterwarnings('ignore')\n",
    "key = open('api.txt', 'r').read()\n",
    "\n",
    "client = MongoClient('localhost', 27017)\n",
    "db = client.meet_up\n",
    "collection = db.groups\n",
    "events_coll = db.events"
   ]
  },
  {
   "cell_type": "markdown",
   "metadata": {},
   "source": [
    "## Get number of groups in each category globally"
   ]
  },
  {
   "cell_type": "code",
   "execution_count": 3,
   "metadata": {},
   "outputs": [],
   "source": [
    "# This creates a list of dictionaries, with name, sort_name, id, and shortname. \n",
    "dict_categories = json.loads(requests.get('https://api.meetup.com/2/categories?key={}'.format(key)).text)['results']\n",
    "\n",
    "#make list of ids \n",
    "ids = [item['id'] for item in dict_categories]\n",
    "ids.sort()\n",
    "\n",
    "#define function\n",
    "def get_count_of_category(number):\n",
    "    req_count = requests.get('https://api.meetup.com/find/groups?key={}&radius=global&category={}'.format(key, number))\\\n",
    "                        .headers['X-Total-Count']\n",
    "    cat_name = next(item['name'] for item in dict_categories if item[\"id\"] == number)\n",
    "    return [number, int(req_count), cat_name]\n",
    "    \n",
    "groups_per_category = [get_count_of_category(category) for category in ids]"
   ]
  },
  {
   "cell_type": "code",
   "execution_count": 16,
   "metadata": {
    "scrolled": true
   },
   "outputs": [
    {
     "ename": "NameError",
     "evalue": "name 'groups_per_category' is not defined",
     "output_type": "error",
     "traceback": [
      "\u001b[0;31m---------------------------------------\u001b[0m",
      "\u001b[0;31mNameError\u001b[0mTraceback (most recent call last)",
      "\u001b[0;32m<ipython-input-16-423f441775fa>\u001b[0m in \u001b[0;36m<module>\u001b[0;34m\u001b[0m\n\u001b[1;32m      1\u001b[0m \u001b[0;31m#Total number of groups\u001b[0m\u001b[0;34m\u001b[0m\u001b[0;34m\u001b[0m\u001b[0;34m\u001b[0m\u001b[0m\n\u001b[1;32m      2\u001b[0m \u001b[0;34m\u001b[0m\u001b[0m\n\u001b[0;32m----> 3\u001b[0;31m \u001b[0msum\u001b[0m\u001b[0;34m(\u001b[0m\u001b[0;34m[\u001b[0m\u001b[0mval\u001b[0m\u001b[0;34m[\u001b[0m\u001b[0;36m1\u001b[0m\u001b[0;34m]\u001b[0m \u001b[0;32mfor\u001b[0m \u001b[0mval\u001b[0m \u001b[0;32min\u001b[0m \u001b[0mgroups_per_category\u001b[0m\u001b[0;34m]\u001b[0m\u001b[0;34m)\u001b[0m\u001b[0;34m\u001b[0m\u001b[0;34m\u001b[0m\u001b[0m\n\u001b[0m",
      "\u001b[0;31mNameError\u001b[0m: name 'groups_per_category' is not defined"
     ]
    }
   ],
   "source": [
    "#Total number of groups\n",
    "\n",
    "sum([val[1] for val in groups_per_category])"
   ]
  },
  {
   "cell_type": "markdown",
   "metadata": {},
   "source": [
    "I find 344,607 groups globally. Wow!"
   ]
  },
  {
   "cell_type": "markdown",
   "metadata": {},
   "source": [
    "# Download all Meetup Groups"
   ]
  },
  {
   "cell_type": "code",
   "execution_count": 16,
   "metadata": {
    "scrolled": true
   },
   "outputs": [],
   "source": [
    "#Meetup only allows 200 requests at a time.\n",
    "def get_groups_for_category(number):\n",
    "    number_of_groups = [entry[1] for entry in groups_per_category if entry[0] == number] \n",
    "    offsets = list(range(int(number_of_groups[0]/200) + 1))\n",
    "    for offset in offsets:\n",
    "        req = requests.get('https://api.meetup.com/find/groups?key={}\\\n",
    "                            &category={}&radius=global&\\\n",
    "                            &offset={}&page=200'.format(key, number, offset))\n",
    "        json_data = json.loads(req.text)\n",
    "        collection.insert_many(json_data)\n",
    "\n",
    "#list of all categories \n",
    "categories = [number[0] for number in groups_per_category if number[0] != 24]\n",
    "\n",
    "for number in categories:\n",
    "    get_groups_for_category(number)"
   ]
  },
  {
   "cell_type": "markdown",
   "metadata": {},
   "source": [
    "# Visibilities (using total data)\n",
    "\n",
    "88% of the groups are public, 12% are public_limited, and 0.3% are members.\n",
    "\n",
    "Public_limited allows you to see the events, but not who went. Members does not allow you to even see the events. \n",
    "Thus, these groups both need to be deleted."
   ]
  },
  {
   "cell_type": "code",
   "execution_count": 118,
   "metadata": {},
   "outputs": [
    {
     "data": {
      "text/plain": [
       "[['public', 100.0]]"
      ]
     },
     "execution_count": 118,
     "metadata": {},
     "output_type": "execute_result"
    }
   ],
   "source": [
    "def percent_each_visibility(collection):\n",
    "    visibilities = collection.distinct('visibility')\n",
    "    total_count = collection.count()\n",
    "    percentages = [[option, round(collection.find({'visibility': option}).count() / total_count, 3) * 100] for option in visibilities]\n",
    "    return percentages\n",
    "\n",
    "#Remove these visibilities from meetups.\n",
    "\n",
    "collection.delete_many({'visibility' : {'$in' : ['public_limited', 'members']}})\n",
    "\n",
    "percent_each_visibility(collection)"
   ]
  },
  {
   "cell_type": "markdown",
   "metadata": {},
   "source": [
    "# Download the events for a particular group"
   ]
  },
  {
   "cell_type": "code",
   "execution_count": 34,
   "metadata": {},
   "outputs": [
    {
     "name": "stdout",
     "output_type": "stream",
     "text": [
      "168\n",
      "{'created': 1351348658000, 'duration': 10800000, 'id': '88793112', 'name': \"Meeting on December 6th, 2012, Mimi's Cafe at the Avenues in Viera.\", 'date_in_series_pattern': False, 'status': 'past', 'time': 1354833000000, 'local_date': '2012-12-06', 'local_time': '17:30', 'updated': 1354995467000, 'utc_offset': -18000000, 'waitlist_count': 0, 'yes_rsvp_count': 15, 'venue': {'id': 960032, 'name': \"Mimi's Cafe\", 'lat': 28.247121810913086, 'lon': -80.72822570800781, 'repinned': False, 'address_1': '6630 Colonnade Avenue', 'city': 'Melbourne', 'country': 'us', 'localized_country_name': 'USA', 'phone': '321-638-0404', 'zip': '32940', 'state': 'FL'}, 'group': {'created': 1351346689000, 'name': 'Florida MUFON UFO Research and Investigations', 'id': 5582872, 'join_mode': 'open', 'lat': 27.969999313354492, 'lon': -80.6500015258789, 'urlname': 'Florida-MUFON-UFO-Research-and-Investigations', 'who': 'UFOlogists', 'localized_location': 'Palm Bay, FL', 'state': 'FL', 'country': 'us', 'region': 'en_US', 'timezone': 'US/Eastern'}, 'link': 'https://www.meetup.com/Florida-MUFON-UFO-Research-and-Investigations/events/88793112/', 'manual_attendance_count': 12, 'description': \"<p>\\xa0</p> <p>\\xa0</p> <p>\\xa0</p> <p>\\xa0</p> <p>\\xa0</p> <p>Our FIRST MUFON Meetup \\xa0will be at <b>Mimi's Cafe</b></p> <p>at the Avenues in Viera, FL. \\xa0From 5:30 pm to 8:30 pm.</p> <p>\\xa0</p> <p>Please RSVP for this meeting and all future meetings.</p> <p>Feel free to bring a friend or two. See you there!</p> <p>\\xa0</p> <p>Your Host for the evening will be</p> <p><b>MUFON</b> Assistant State Director Teri Lynge</p> \", 'how_to_find_us': 'Map provided', 'visibility': 'public'}\n"
     ]
    }
   ],
   "source": [
    "req = requests.get('https://api.meetup.com/Florida-MUFON-UFO-Research-and-Investigations/events?\\\n",
    "                    key={}&status=past'.format(key))\n",
    "\n",
    "print(req.headers['X-Total-Count'])\n",
    "print(json.loads(req.text)[0])"
   ]
  },
  {
   "cell_type": "markdown",
   "metadata": {},
   "source": [
    "# Download all the events... ever\n",
    "\n",
    "I tested by going to a group and counting their events: It works.\n",
    "\n",
    "But what if over 200 events?\n",
    "\n",
    "In the API console, it appears I am limited to 500 events. So I need an if statement: If greater than 500, etc. Of course, we need to verify that we can get 500 here. "
   ]
  },
  {
   "cell_type": "code",
   "execution_count": 161,
   "metadata": {},
   "outputs": [
    {
     "ename": "TypeError",
     "evalue": "documents must be a non-empty list",
     "output_type": "error",
     "traceback": [
      "\u001b[0;31m--------------------------------------------------------------------------\u001b[0m",
      "\u001b[0;31mTypeError\u001b[0m                                Traceback (most recent call last)",
      "\u001b[0;32m<ipython-input-161-71a3ab0abefb>\u001b[0m in \u001b[0;36m<module>\u001b[0;34m\u001b[0m\n\u001b[1;32m     24\u001b[0m         \u001b[0mevents_coll\u001b[0m\u001b[0;34m.\u001b[0m\u001b[0minsert_many\u001b[0m\u001b[0;34m(\u001b[0m\u001b[0mjson_data\u001b[0m\u001b[0;34m)\u001b[0m\u001b[0;34m\u001b[0m\u001b[0;34m\u001b[0m\u001b[0m\n\u001b[1;32m     25\u001b[0m \u001b[0;34m\u001b[0m\u001b[0m\n\u001b[0;32m---> 26\u001b[0;31m \u001b[0mget_all_events\u001b[0m\u001b[0;34m(\u001b[0m\u001b[0mcollection\u001b[0m\u001b[0;34m)\u001b[0m\u001b[0;34m\u001b[0m\u001b[0;34m\u001b[0m\u001b[0m\n\u001b[0m",
      "\u001b[0;32m<ipython-input-161-71a3ab0abefb>\u001b[0m in \u001b[0;36mget_all_events\u001b[0;34m(collection)\u001b[0m\n\u001b[1;32m     14\u001b[0m         \u001b[0;32mwhile\u001b[0m \u001b[0mnumber_of_events\u001b[0m \u001b[0;34m>\u001b[0m \u001b[0;36m200\u001b[0m\u001b[0;34m:\u001b[0m\u001b[0;34m\u001b[0m\u001b[0;34m\u001b[0m\u001b[0m\n\u001b[1;32m     15\u001b[0m             \u001b[0mjson_data\u001b[0m \u001b[0;34m=\u001b[0m \u001b[0mjson\u001b[0m\u001b[0;34m.\u001b[0m\u001b[0mloads\u001b[0m\u001b[0;34m(\u001b[0m\u001b[0mreq\u001b[0m\u001b[0;34m.\u001b[0m\u001b[0mtext\u001b[0m\u001b[0;34m)\u001b[0m\u001b[0;34m\u001b[0m\u001b[0;34m\u001b[0m\u001b[0m\n\u001b[0;32m---> 16\u001b[0;31m             \u001b[0mevents_coll\u001b[0m\u001b[0;34m.\u001b[0m\u001b[0minsert_many\u001b[0m\u001b[0;34m(\u001b[0m\u001b[0mjson_data\u001b[0m\u001b[0;34m)\u001b[0m\u001b[0;34m\u001b[0m\u001b[0;34m\u001b[0m\u001b[0m\n\u001b[0m\u001b[1;32m     17\u001b[0m             \u001b[0mlast_tmstp\u001b[0m \u001b[0;34m=\u001b[0m \u001b[0;34m\"{}T{}\"\u001b[0m\u001b[0;34m.\u001b[0m\u001b[0mformat\u001b[0m\u001b[0;34m(\u001b[0m\u001b[0mjson_data\u001b[0m\u001b[0;34m[\u001b[0m\u001b[0;34m-\u001b[0m\u001b[0;36m1\u001b[0m\u001b[0;34m]\u001b[0m\u001b[0;34m[\u001b[0m\u001b[0;34m'local_date'\u001b[0m\u001b[0;34m]\u001b[0m\u001b[0;34m,\u001b[0m\u001b[0mjson_data\u001b[0m\u001b[0;34m[\u001b[0m\u001b[0;34m-\u001b[0m\u001b[0;36m1\u001b[0m\u001b[0;34m]\u001b[0m\u001b[0;34m[\u001b[0m\u001b[0;34m'local_time'\u001b[0m\u001b[0;34m]\u001b[0m\u001b[0;34m)\u001b[0m\u001b[0;34m\u001b[0m\u001b[0;34m\u001b[0m\u001b[0m\n\u001b[1;32m     18\u001b[0m             req = requests.get('https://api.meetup.com/{}/events?\\\n",
      "\u001b[0;32m~/anaconda3/lib/python3.7/site-packages/pymongo/collection.py\u001b[0m in \u001b[0;36minsert_many\u001b[0;34m(self, documents, ordered, bypass_document_validation, session)\u001b[0m\n\u001b[1;32m    736\u001b[0m         \"\"\"\n\u001b[1;32m    737\u001b[0m         \u001b[0;32mif\u001b[0m \u001b[0;32mnot\u001b[0m \u001b[0misinstance\u001b[0m\u001b[0;34m(\u001b[0m\u001b[0mdocuments\u001b[0m\u001b[0;34m,\u001b[0m \u001b[0mabc\u001b[0m\u001b[0;34m.\u001b[0m\u001b[0mIterable\u001b[0m\u001b[0;34m)\u001b[0m \u001b[0;32mor\u001b[0m \u001b[0;32mnot\u001b[0m \u001b[0mdocuments\u001b[0m\u001b[0;34m:\u001b[0m\u001b[0;34m\u001b[0m\u001b[0;34m\u001b[0m\u001b[0m\n\u001b[0;32m--> 738\u001b[0;31m             \u001b[0;32mraise\u001b[0m \u001b[0mTypeError\u001b[0m\u001b[0;34m(\u001b[0m\u001b[0;34m\"documents must be a non-empty list\"\u001b[0m\u001b[0;34m)\u001b[0m\u001b[0;34m\u001b[0m\u001b[0;34m\u001b[0m\u001b[0m\n\u001b[0m\u001b[1;32m    739\u001b[0m         \u001b[0minserted_ids\u001b[0m \u001b[0;34m=\u001b[0m \u001b[0;34m[\u001b[0m\u001b[0;34m]\u001b[0m\u001b[0;34m\u001b[0m\u001b[0;34m\u001b[0m\u001b[0m\n\u001b[1;32m    740\u001b[0m         \u001b[0;32mdef\u001b[0m \u001b[0mgen\u001b[0m\u001b[0;34m(\u001b[0m\u001b[0;34m)\u001b[0m\u001b[0;34m:\u001b[0m\u001b[0;34m\u001b[0m\u001b[0;34m\u001b[0m\u001b[0m\n",
      "\u001b[0;31mTypeError\u001b[0m: documents must be a non-empty list"
     ]
    }
   ],
   "source": [
    "## req = requests.get('https://api.meetup.com/{}/events?\\\n",
    "# #                     key={}&status=past&page=5000'.format('AustinTexas', key))\n",
    "# # json_data = json.loads(req.text)\n",
    "# # len(json_data)\n",
    "# # #req.headers\n",
    "def get_all_events(collection):\n",
    "    urlnames = [entry['urlname'] for entry in collection.find()]\n",
    "    for urlname in urlnames:\n",
    "        # First, we need the total number of events for the group\n",
    "        req = requests.get('https://api.meetup.com/{}/events?\\\n",
    "                            key={}&status=past&page=200&desc=true'.format(urlname, key))\n",
    "        number_of_events = int(req.headers['X-Total-Count'])\n",
    "        \n",
    "        # \n",
    "        #Insert the 200, then get the date of the last one.         \n",
    "        while number_of_events > 200:\n",
    "            json_data = json.loads(req.text)\n",
    "            events_coll.insert_many(json_data)\n",
    "            last_tmstp = \"{}T{}\".format(json_data[-1]['local_date'],json_data[-1]['local_time'])            \n",
    "            req = requests.get('https://api.meetup.com/{}/events?\\\n",
    "                            key={}&status=past&page=200&desc=true&no_later_than={}'.format(urlname, key, last_tmstp))\n",
    "            number_of_events = int(req.headers['X-Total-Count'])\n",
    "\n",
    "        # If less than 200, immediately insert\n",
    "        json_data = json.loads(req.text)\n",
    "        events_coll.insert_many(json_data)\n",
    "            \n",
    "get_all_events(collection)\n"
   ]
  },
  {
   "cell_type": "markdown",
   "metadata": {},
   "source": [
    "# Find the attendees for a particular event"
   ]
  },
  {
   "cell_type": "code",
   "execution_count": 135,
   "metadata": {},
   "outputs": [
    {
     "data": {
      "text/plain": [
       "[7385260, 26274872, 71777132, 62218232, 16899141, 56597972, 12450926]"
      ]
     },
     "execution_count": 135,
     "metadata": {},
     "output_type": "execute_result"
    }
   ],
   "source": [
    "req = requests.get('https://api.meetup.com/Florida-MUFON-UFO-Research-and-Investigations/events/88793112/rsvps?\\\n",
    "                    key={}'.format(key))\n",
    "\n",
    "#Insert the attendees into their own database.\n",
    "id_data = json.loads(req.text)\n",
    "collection = db.attendees\n",
    "collection.insert_many(id_data)\n",
    "\n",
    "#get unique identifiers out\n",
    "collection.distinct('member.id')"
   ]
  },
  {
   "cell_type": "markdown",
   "metadata": {},
   "source": [
    "# For loop that downloads all member IDS"
   ]
  },
  {
   "cell_type": "code",
   "execution_count": null,
   "metadata": {},
   "outputs": [],
   "source": []
  }
 ],
 "metadata": {
  "kernelspec": {
   "display_name": "Python 3",
   "language": "python",
   "name": "python3"
  },
  "language_info": {
   "codemirror_mode": {
    "name": "ipython",
    "version": 3
   },
   "file_extension": ".py",
   "mimetype": "text/x-python",
   "name": "python",
   "nbconvert_exporter": "python",
   "pygments_lexer": "ipython3",
   "version": "3.7.1"
  }
 },
 "nbformat": 4,
 "nbformat_minor": 2
}
