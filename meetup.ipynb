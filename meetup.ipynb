{
 "cells": [
  {
   "cell_type": "markdown",
   "metadata": {},
   "source": [
    "# Meetup Project\n",
    "\n",
    "\n",
    "What is in a Meetup API request?\n",
    "\n",
    "1. https://api.meetup.com: The API host.\n",
    "2. /find/groups: The method\n",
    "3. zip=11211&radius=1&category=25: The args. Here is where you may add the API key.\n",
    "    From what I can tell, the only args you can give are zip, radius, and category. So maybe you need to go through the zips \n",
    "4. &order=members:  How to order the results.\n",
    "\n",
    "\n",
    "-  Private groups I cannot see the members who go, only the number. We will need to see how many groups are public.\n"
   ]
  },
  {
   "cell_type": "markdown",
   "metadata": {},
   "source": [
    "# Imports / Pymongo Setup"
   ]
  },
  {
   "cell_type": "code",
   "execution_count": 2,
   "metadata": {},
   "outputs": [],
   "source": [
    "from pymongo import MongoClient\n",
    "import numpy as np\n",
    "import requests\n",
    "import json\n",
    "import warnings\n",
    "warnings.filterwarnings('ignore')\n",
    "key = open('api.txt', 'r').read()\n",
    "\n",
    "client = MongoClient('localhost', 27017)\n",
    "db = client.meet_up\n",
    "collection = db.groups"
   ]
  },
  {
   "cell_type": "markdown",
   "metadata": {},
   "source": [
    "## Get number of groups in each category globally"
   ]
  },
  {
   "cell_type": "code",
   "execution_count": 3,
   "metadata": {},
   "outputs": [],
   "source": [
    "# This creates a list of dictionaries, with name, sort_name, id, and shortname. \n",
    "dict_categories = json.loads(requests.get('https://api.meetup.com/2/categories?key={}'.format(key)).text)['results']\n",
    "\n",
    "#make list of ids \n",
    "ids = [item['id'] for item in dict_categories]\n",
    "ids.sort()\n",
    "\n",
    "#define function\n",
    "def get_count_of_category(number):\n",
    "    req_count = requests.get('https://api.meetup.com/find/groups?key={}&radius=global&category={}'.format(key, number))\\\n",
    "                        .headers['X-Total-Count']\n",
    "    cat_name = next(item['name'] for item in dict_categories if item[\"id\"] == number)\n",
    "    return [number, int(req_count), cat_name]\n",
    "    \n",
    "groups_per_category = [get_count_of_category(category) for category in ids]"
   ]
  },
  {
   "cell_type": "code",
   "execution_count": 5,
   "metadata": {
    "scrolled": false
   },
   "outputs": [
    {
     "data": {
      "text/plain": [
       "344959"
      ]
     },
     "execution_count": 5,
     "metadata": {},
     "output_type": "execute_result"
    }
   ],
   "source": [
    "#Total number of groups\n",
    "\n",
    "sum([val[1] for val in groups_per_category])"
   ]
  },
  {
   "cell_type": "markdown",
   "metadata": {},
   "source": [
    "I find 344,607 groups globally. Wow!"
   ]
  },
  {
   "cell_type": "markdown",
   "metadata": {},
   "source": [
    "# Download all Meetup Groups"
   ]
  },
  {
   "cell_type": "code",
   "execution_count": 16,
   "metadata": {
    "scrolled": true
   },
   "outputs": [],
   "source": [
    "#Meetup only allows 200 requests at a time.\n",
    "def get_groups_for_category(number):\n",
    "    number_of_groups = [entry[1] for entry in groups_per_category if entry[0] == number] \n",
    "    offsets = list(range(int(number_of_groups[0]/200) + 1))\n",
    "    for offset in offsets:\n",
    "        req = requests.get('https://api.meetup.com/find/groups?key={}\\\n",
    "                            &category={}&radius=global&\\\n",
    "                            &offset={}&page=200'.format(key, number, offset))\n",
    "        json_data = json.loads(req.text)\n",
    "        collection.insert_many(json_data)\n",
    "\n",
    "#list of all categories \n",
    "categories = [number[0] for number in groups_per_category if number[0] != 24]\n",
    "\n",
    "for number in categories:\n",
    "    get_groups_for_category(number)"
   ]
  },
  {
   "cell_type": "markdown",
   "metadata": {},
   "source": [
    "# Visibilities (using total data)\n",
    "\n",
    "88% of the groups are public, 12% are public_limited, and 0.3% are members.\n",
    "\n",
    "For public_limited and members, do these groups allow you to access events and members?"
   ]
  },
  {
   "cell_type": "code",
   "execution_count": 14,
   "metadata": {},
   "outputs": [
    {
     "name": "stdout",
     "output_type": "stream",
     "text": [
      "[['public', 87.7], ['public_limited', 12.0], ['members', 0.3]]\n"
     ]
    }
   ],
   "source": [
    "def percent_each_visibility(collection):\n",
    "    visibilities = collection.distinct('visibility')\n",
    "    total_count = collection.count()\n",
    "    percentages = [[option, round(collection.find({'visibility': option}).count() / total_count, 3) * 100] for option in visibilities]\n",
    "    return percentages\n",
    "\n",
    "\n",
    "print(percent_each_visibility(collection))"
   ]
  },
  {
   "cell_type": "markdown",
   "metadata": {},
   "source": [
    "# Download the events for a particular group"
   ]
  },
  {
   "cell_type": "code",
   "execution_count": 160,
   "metadata": {},
   "outputs": [
    {
     "name": "stdout",
     "output_type": "stream",
     "text": [
      "168\n",
      "{'created': 1351348658000, 'duration': 10800000, 'id': '88793112', 'name': \"Meeting on December 6th, 2012, Mimi's Cafe at the Avenues in Viera.\", 'date_in_series_pattern': False, 'status': 'past', 'time': 1354833000000, 'local_date': '2012-12-06', 'local_time': '17:30', 'updated': 1354995467000, 'utc_offset': -18000000, 'waitlist_count': 0, 'yes_rsvp_count': 15, 'venue': {'id': 960032, 'name': \"Mimi's Cafe\", 'lat': 28.247121810913086, 'lon': -80.72822570800781, 'repinned': False, 'address_1': '6630 Colonnade Avenue', 'city': 'Melbourne', 'country': 'us', 'localized_country_name': 'USA', 'phone': '321-638-0404', 'zip': '32940', 'state': 'FL'}, 'group': {'created': 1351346689000, 'name': 'Florida MUFON UFO Research and Investigations', 'id': 5582872, 'join_mode': 'open', 'lat': 27.969999313354492, 'lon': -80.6500015258789, 'urlname': 'Florida-MUFON-UFO-Research-and-Investigations', 'who': 'UFOlogists', 'localized_location': 'Palm Bay, FL', 'state': 'FL', 'country': 'us', 'region': 'en_US', 'timezone': 'US/Eastern'}, 'link': 'https://www.meetup.com/Florida-MUFON-UFO-Research-and-Investigations/events/88793112/', 'manual_attendance_count': 12, 'description': \"<p>\\xa0</p> <p>\\xa0</p> <p>\\xa0</p> <p>\\xa0</p> <p>\\xa0</p> <p>Our FIRST MUFON Meetup \\xa0will be at <b>Mimi's Cafe</b></p> <p>at the Avenues in Viera, FL. \\xa0From 5:30 pm to 8:30 pm.</p> <p>\\xa0</p> <p>Please RSVP for this meeting and all future meetings.</p> <p>Feel free to bring a friend or two. See you there!</p> <p>\\xa0</p> <p>Your Host for the evening will be</p> <p><b>MUFON</b> Assistant State Director Teri Lynge</p> \", 'how_to_find_us': 'Map provided', 'visibility': 'public'}\n"
     ]
    }
   ],
   "source": [
    "req = requests.get('https://api.meetup.com/Florida-MUFON-UFO-Research-and-Investigations/events?\\\n",
    "                    key={}&status=past'.format(key))\n",
    "\n",
    "print(req.headers['X-Total-Count'])\n",
    "print(json.loads(req.text)[0])"
   ]
  },
  {
   "cell_type": "markdown",
   "metadata": {},
   "source": [
    "# Find the attendees for a particular event"
   ]
  },
  {
   "cell_type": "code",
   "execution_count": 178,
   "metadata": {},
   "outputs": [
    {
     "data": {
      "text/plain": [
       "[7385260, 26274872, 71777132, 62218232, 16899141, 56597972, 12450926]"
      ]
     },
     "execution_count": 178,
     "metadata": {},
     "output_type": "execute_result"
    }
   ],
   "source": [
    "req = requests.get('https://api.meetup.com/Florida-MUFON-UFO-Research-and-Investigations/events/88793112/rsvps?\\\n",
    "                    key={}'.format(key))\n",
    "\n",
    "#Insert the attendees into their own database.\n",
    "id_data = json.loads(req.text)\n",
    "collection = db.attendees\n",
    "collection.insert_many(id_data)\n",
    "\n",
    "#get unique identifiers out\n",
    "collection.distinct('member.id')"
   ]
  },
  {
   "cell_type": "markdown",
   "metadata": {},
   "source": [
    "# For loop that downloads all member IDS"
   ]
  },
  {
   "cell_type": "code",
   "execution_count": null,
   "metadata": {},
   "outputs": [],
   "source": []
  }
 ],
 "metadata": {
  "kernelspec": {
   "display_name": "Python 3",
   "language": "python",
   "name": "python3"
  },
  "language_info": {
   "codemirror_mode": {
    "name": "ipython",
    "version": 3
   },
   "file_extension": ".py",
   "mimetype": "text/x-python",
   "name": "python",
   "nbconvert_exporter": "python",
   "pygments_lexer": "ipython3",
   "version": "3.7.1"
  }
 },
 "nbformat": 4,
 "nbformat_minor": 2
}
