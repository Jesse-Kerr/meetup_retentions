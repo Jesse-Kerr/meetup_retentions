{
 "cells": [
  {
   "cell_type": "markdown",
   "metadata": {},
   "source": [
    "Goal:\n",
    "\n",
    "1. Create new AWS instance with Mongo and anaconda. \n",
    "\n",
    "2. Create function which take urlname, date (with default set to Jan 1, 2018, and inserts these things to Mongo:\n",
    "\n",
    "    \n",
    "Let's make two databases, one on group, another on events. \n",
    "\n",
    "Or the function could take an area and a date. \n",
    "\n",
    "## Austin:\n",
    "\n",
    "I say central zipcode is 78702. 12 miles seems to encompass the city nicely. Let's do 17 to be safe. Well, when you think about it, don't want to get meetups too far away.\n",
    "\n"
   ]
  },
  {
   "cell_type": "markdown",
   "metadata": {},
   "source": [
    "Questions to answer:\n",
    "Are closed groups, do they have higher retentions? Or approval?\n",
    "\n",
    "There is the events\\:id\\attendance api call. However, are people taking attendance? Out of the three groups I looked at\n",
    "originally, 1 was. And it seems they mark when people are no-shows.\n",
    "\n",
    "So I can do this call:\n",
    "https://api.meetup.com/Hiking-for-Singles/events/251917488/attendance?&sign=true&photo-host=public&page=20&only=member.id,attendance_id,status,rsvp.response"
   ]
  },
  {
   "cell_type": "code",
   "execution_count": 1,
   "metadata": {},
   "outputs": [],
   "source": [
    "from pymongo import MongoClient\n",
    "import pandas as pd\n",
    "import numpy as np\n",
    "import requests\n",
    "import json\n",
    "import time\n",
    "import sys\n",
    "\n",
    "sys.path.append('./src')\n",
    "key = open('src/api.txt', 'r').read()\n",
    "\n",
    "client = MongoClient()\n",
    "db = client.meetup"
   ]
  },
  {
   "cell_type": "code",
   "execution_count": 10,
   "metadata": {},
   "outputs": [
    {
     "data": {
      "text/plain": [
       "(2719, [0, 1, 2, 3, 4, 5, 6, 7, 8, 9, 10, 11, 12, 13])"
      ]
     },
     "execution_count": 10,
     "metadata": {},
     "output_type": "execute_result"
    }
   ],
   "source": [
    "def get_attendees_for_group_and_time(zipcode, radius):\n",
    "    '''\n",
    "    Finds all groups within a certain region. If their visibility is set to public, \n",
    "    insert them into the mongo groups collection in the meetup db. \n",
    "    \n",
    "    Then the function gets the events for each group and gets the attendees for the event, inserts \n",
    "    that into event_attendees db. \n",
    "    \n",
    "    Parameters:\n",
    "    zipcode (int): Center of search for groups.\n",
    "    radius(int): Distance past zip to search for groups.\n",
    "\n",
    "    Returns (in groups db):\n",
    "\n",
    "    1. GroupID\n",
    "    2. Status\n",
    "    3. urlname\n",
    "    4. Date created\n",
    "    5. City\n",
    "    6. State\n",
    "    7. join_mode- This can be approval, closed, or open. \n",
    "    8. Visibility \n",
    "    9. Lat \n",
    "    10. Lon \n",
    "    11. # of members\n",
    "    12. who (what they call members)\n",
    "    13. Key_photo\n",
    "    14. category.id \n",
    "    15. topics\n",
    "    16. contributions: can people 'contribute' money? \n",
    "    17. Plain text description \n",
    "    18. join_info.questions, join_info.photo_req, join_info.questions_req\n",
    "    19. past_event_count\n",
    "    20. meta_category.id \n",
    "    21. membership_dues.required, membership_dues.fee, membership_dues.fee_desc (How often fee due)\n",
    "    \n",
    "    Returns (in events db):\n",
    "    \n",
    "    \n",
    "    '''\n",
    "    req = requests.get('https://api.meetup.com/find/groups?key={}&zip={}&radius={}\\\n",
    "    &fields=join_info,contributions,discussion_preferences,membership_dues,\\\n",
    "    best_topics,past_event_count,topics,plain_text_description&page=200&offset={}\\\n",
    "    &omit=link,score,name,description,country,organizer,timezone,next_event,\\\n",
    "    ,localized_country_name,localized_location,untranslated_city,meta_category.photo,\\\n",
    "    ,key_photo.thumb_link,key_photo.base_url,topics.lang'\n",
    "                       .format(key, zipcode, radius, 0))\n",
    "    json_data = json.loads(req.text)\n",
    "    db.groups.insert_many(json_data)\n",
    "    #This will give us the number of groups.\n",
    "    number_of_groups = int(req.headers['X-Total-Count'])\n",
    "    offsets = list(range(int(number_of_groups/200) + 1))\n",
    "    \n",
    "    return number_of_groups, offsets\n",
    "    \n",
    "get_attendees_for_group_and_time(78702, 12)"
   ]
  },
  {
   "cell_type": "code",
   "execution_count": null,
   "metadata": {},
   "outputs": [],
   "source": [
    "def get_events_for_group(starting_date):\n",
    "    pass"
   ]
  }
 ],
 "metadata": {
  "kernelspec": {
   "display_name": "Python 3",
   "language": "python",
   "name": "python3"
  },
  "language_info": {
   "codemirror_mode": {
    "name": "ipython",
    "version": 3
   },
   "file_extension": ".py",
   "mimetype": "text/x-python",
   "name": "python",
   "nbconvert_exporter": "python",
   "pygments_lexer": "ipython3",
   "version": "3.7.1"
  }
 },
 "nbformat": 4,
 "nbformat_minor": 2
}
