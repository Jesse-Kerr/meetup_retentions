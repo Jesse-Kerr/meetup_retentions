{
 "cells": [
  {
   "cell_type": "markdown",
   "metadata": {},
   "source": [
    "Goal:\n",
    "\n",
    "1. Create new AWS instance with Postgres and anaconda. \n",
    "\n",
    "2. Create function which take urlname, date (with default set to Jan 1, 2018, and inserts these things to Mongo:\n",
    "    1. GroupID\n",
    "    2. Status\n",
    "    3. urlname\n",
    "    4. members\n",
    "    5. created\n",
    "    6. city\n",
    "    7. join_mode- This can be approval, closed, or open. Are closed groups, do they have higher retentions? Or approval?\n",
    "    8. category.id\n",
    "    9. meta_category.id\n",
    "    10. Description?\n",
    "    11. State\n",
    "    12. lat\n",
    "    13. lon\n",
    "    14. group_photo.photo_link\n",
    "    15. join_info.questions_req : Says whether any questions are required when joining group. This could cause: Less people to show up, but more to come back \n",
    "    16. join_info.photo_req\n",
    "    17. join_info.questions\n",
    "    18. contributions: can people 'contribute' money? \n",
    "    19. membership_dues.fee\n",
    "    20. membership_dues.fee_desc (How often fee due)\n",
    "    21. membership_dues.required\n",
    "    22. past_event_count\n",
    "    23. topics\n",
    "    24. who (what they call members)\n",
    "    \n",
    "Let's make two databases, one on group, another on events. \n",
    "\n",
    "Or the function could take an area and a date. \n",
    "\n",
    "## Austin:\n",
    "\n",
    "I say central zipcode is 78702. 12 miles seems to encompass the city nicely. Let's do 17 to be safe. Well, when you think about it, don't want to get meetups too far away."
   ]
  },
  {
   "cell_type": "code",
   "execution_count": 5,
   "metadata": {},
   "outputs": [],
   "source": [
    "from pymongo import MongoClient\n",
    "import pandas as pd\n",
    "import numpy as np\n",
    "import requests\n",
    "import json\n",
    "import time\n",
    "import sys\n",
    "\n",
    "sys.path.append('./src')\n",
    "key = open('src/api.txt', 'r').read()\n",
    "\n",
    "client = MongoClient()\n",
    "db = client.meetup"
   ]
  },
  {
   "cell_type": "code",
   "execution_count": null,
   "metadata": {},
   "outputs": [],
   "source": [
    "def get_attendees_for_group_and_time(zipcode, radius, starting_date):\n",
    "    '''\n",
    "    Finds all groups within a certain region. If their visibility is set to public, \n",
    "    insert them into the mongo groups collection in the meetup db. \n",
    "    \n",
    "    Then finds all the events for each group in that collection, and insers them into\n",
    "    the events collection. \n",
    "    \n",
    "    Parameters:\n",
    "    zipcode (int): Center of search for groups.\n",
    "    radius(int): Distance past zip to search for groups.\n",
    "    starting_date(date): \n",
    "    '''\n",
    "    req = requests.get('https://api.meetup.com/find/groups?key={}\\\n",
    "                        &zip={}&radius={}&\\\n",
    "                        fields=join_info, contributions, discussion_preferences,\\\n",
    "                        membership_dues, best_topics, past_event_count, topics&page=20\n",
    "    req = requests.get('https://api.meetup.com/find/groups?key={}\\\n",
    "                            &category={}&radius=global&\\\n",
    "                            &offset={}&page=200'.format(key, number, offset)"
   ]
  }
 ],
 "metadata": {
  "kernelspec": {
   "display_name": "Python 3",
   "language": "python",
   "name": "python3"
  },
  "language_info": {
   "codemirror_mode": {
    "name": "ipython",
    "version": 3
   },
   "file_extension": ".py",
   "mimetype": "text/x-python",
   "name": "python",
   "nbconvert_exporter": "python",
   "pygments_lexer": "ipython3",
   "version": "3.7.1"
  }
 },
 "nbformat": 4,
 "nbformat_minor": 2
}
